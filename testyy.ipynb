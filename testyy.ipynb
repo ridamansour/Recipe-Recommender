{
 "cells": [
  {
   "cell_type": "code",
   "id": "initial_id",
   "metadata": {
    "collapsed": true,
    "ExecuteTime": {
     "end_time": "2025-03-06T21:35:02.722003Z",
     "start_time": "2025-03-06T21:35:02.670175Z"
    }
   },
   "source": [
    "from dotenv import load_dotenv\n",
    "import requests\n",
    "import os"
   ],
   "outputs": [],
   "execution_count": 1
  },
  {
   "metadata": {},
   "cell_type": "code",
   "source": [
    "load_dotenv()\n",
    "\n",
    "api_url = 'https://api.calorieninjas.com/v1/nutrition?query='\n",
    "query = 'chicken sandwich'\n",
    "response = requests.get(api_url + query, headers={'X-Api-Key': os.getenv(\"CALORIE_NINJAS_API_KEY\")})\n",
    "if response.status_code == requests.codes.ok:\n",
    "    print(response.text)\n",
    "else:\n",
    "    print(\"Error:\", response.status_code, response.text)"
   ],
   "id": "96ea3da8401883c1",
   "outputs": [],
   "execution_count": null
  },
  {
   "metadata": {},
   "cell_type": "code",
   "source": "response",
   "id": "fda753d655daa69",
   "outputs": [],
   "execution_count": null
  },
  {
   "metadata": {},
   "cell_type": "code",
   "source": "response.json()[\"items\"][0]",
   "id": "2d1e76af4cb0da09",
   "outputs": [],
   "execution_count": null
  },
  {
   "metadata": {
    "ExecuteTime": {
     "end_time": "2025-03-06T21:35:50.399498Z",
     "start_time": "2025-03-06T21:35:49.031549Z"
    }
   },
   "cell_type": "code",
   "source": [
    "import polars as pl\n",
    "import ast\n",
    "\n",
    "def categorize_meal_course(name, ingredients):\n",
    "    \"\"\"Assigns meal course tags based on dish name and ingredients.\"\"\"\n",
    "    name_lower = name.lower()\n",
    "    ingredients_lower = {ing.lower() for ing in ingredients}\n",
    "    meal_tags = set()\n",
    "\n",
    "    # Breakfast-related keywords\n",
    "    breakfast_keywords = {\"pancake\", \"waffle\", \"oatmeal\", \"cereal\", \"omelet\", \"toast\", \"bagel\", \"smoothie\", \"frittata\", \"scramble\", \"bacon\", \"hashbrown\", \"granola\", \"crepe\"}\n",
    "\n",
    "    # Desserts & Snacks\n",
    "    dessert_snack_keywords = {\"cookie\", \"cake\", \"pie\", \"pudding\", \"muffin\", \"brownie\", \"candy\", \"donut\", \"cupcake\", \"sorbet\", \"ice cream\", \"cheesecake\", \"truffle\", \"chocolate\"}\n",
    "\n",
    "    # Appetizers & Side dishes\n",
    "    appetizer_side_keywords = {\"salad\", \"soup\", \"dip\", \"appetizer\", \"side\", \"fries\", \"bruschetta\", \"tapas\", \"spring roll\", \"dumpling\", \"chips\", \"guacamole\", \"hummus\", \"coleslaw\", \"pickle\"}\n",
    "\n",
    "    # Main courses\n",
    "    main_course_keywords = {\"chicken\", \"beef\", \"pasta\", \"rice\", \"stew\", \"curry\", \"fish\", \"pork\", \"lamb\", \"noodles\", \"steak\", \"fajita\", \"meatball\", \"biryani\", \"kebab\", \"taco\", \"lasagna\"}\n",
    "\n",
    "    # Sandwiches & Burgers\n",
    "    sandwich_burger_keywords = {\"burger\", \"sandwich\", \"wrap\", \"panini\", \"shawarma\", \"sub\", \"grilled cheese\"}\n",
    "\n",
    "    # Pizza & Flatbreads\n",
    "    pizza_keywords = {\"pizza\", \"flatbread\", \"calzone\", \"pide\"}\n",
    "\n",
    "    # Ingredient-based Classification\n",
    "    high_protein = {\"chicken\", \"beef\", \"pork\", \"lamb\", \"fish\", \"shrimp\", \"turkey\"}\n",
    "    carb_based = {\"pasta\", \"rice\", \"bread\", \"potato\", \"noodle\", \"tortilla\"}\n",
    "\n",
    "    # Assign categories based on name\n",
    "    if any(word in name_lower for word in breakfast_keywords):\n",
    "        meal_tags.add(\"breakfast\")\n",
    "    if any(word in name_lower for word in dessert_snack_keywords):\n",
    "        meal_tags.update([\"dessert\", \"snack\"])\n",
    "    if any(word in name_lower for word in appetizer_side_keywords):\n",
    "        meal_tags.update([\"appetizer\", \"side\"])\n",
    "    if any(word in name_lower for word in main_course_keywords):\n",
    "        meal_tags.update([\"lunch\", \"dinner\"])\n",
    "    if any(word in name_lower for word in sandwich_burger_keywords):\n",
    "        meal_tags.add(\"sandwich/burger\")\n",
    "    if any(word in name_lower for word in pizza_keywords):\n",
    "        meal_tags.add(\"pizza\")\n",
    "\n",
    "    # Ingredient-based assignments\n",
    "    if not meal_tags:\n",
    "        if ingredients_lower.intersection(high_protein):\n",
    "            meal_tags.update([\"lunch\", \"dinner\"])\n",
    "        if ingredients_lower.intersection(carb_based):\n",
    "            meal_tags.update([\"side\", \"main\"])\n",
    "        if \"egg\" in ingredients_lower or \"bacon\" in ingredients_lower:\n",
    "            meal_tags.add(\"breakfast\")\n",
    "\n",
    "    # Fallback Category (More specific than \"general\")\n",
    "    if not meal_tags:\n",
    "        meal_tags.add(\"miscellaneous\")  # Less ambiguous than \"general\"\n",
    "\n",
    "    return list(meal_tags)"
   ],
   "id": "f9bf47788c2fa100",
   "outputs": [],
   "execution_count": 2
  },
  {
   "metadata": {
    "ExecuteTime": {
     "end_time": "2025-03-06T21:35:50.408309Z",
     "start_time": "2025-03-06T21:35:50.404493Z"
    }
   },
   "cell_type": "code",
   "source": [
    "def categorize_dietary_tags(ingredients):\n",
    "    \"\"\"Assigns dietary restriction tags based on ingredients.\"\"\"\n",
    "    ingredients_lower = {ing.lower() for ing in ingredients}\n",
    "    tags = set()\n",
    "\n",
    "    non_halal = {\"pork\", \"bacon\", \"ham\", \"lard\", \"gelatin\"}\n",
    "    non_kosher = {\"pork\", \"shellfish\", \"gelatin\", \"rabbit\"}\n",
    "    vegetarian = {\"chicken\", \"beef\", \"pork\", \"fish\", \"lamb\", \"duck\", \"shrimp\", \"bacon\", \"ham\"}\n",
    "    vegan = vegetarian.union({\"milk\", \"cheese\", \"butter\", \"honey\", \"eggs\", \"yogurt\", \"cream\"})\n",
    "\n",
    "    if not ingredients_lower.intersection(non_halal):\n",
    "        tags.add(\"Halal\")\n",
    "    else:\n",
    "        tags.add(\"Non-Halal\")\n",
    "\n",
    "    if not ingredients_lower.intersection(non_kosher):\n",
    "        tags.add(\"Kosher\")\n",
    "    else:\n",
    "        tags.add(\"Non-Kosher\")\n",
    "\n",
    "    if not ingredients_lower.intersection(vegetarian):\n",
    "        tags.add(\"Vegetarian\")\n",
    "\n",
    "    if not ingredients_lower.intersection(vegan):\n",
    "        tags.add(\"Vegan\")\n",
    "\n",
    "    return list(tags)"
   ],
   "id": "5a0b9f9096478e4f",
   "outputs": [],
   "execution_count": 3
  },
  {
   "metadata": {
    "ExecuteTime": {
     "end_time": "2025-03-06T21:46:48.324119Z",
     "start_time": "2025-03-06T21:46:34.291273Z"
    }
   },
   "cell_type": "code",
   "source": [
    "# Load CSV file\n",
    "df = pl.read_csv(\"data/recipes.csv\")\n",
    "df.head()"
   ],
   "id": "8a0f78cdebc767f7",
   "outputs": [
    {
     "data": {
      "text/plain": [
       "shape: (5, 7)\n",
       "┌─────┬────────────────┬────────────────┬───────────────┬───────────────┬──────────┬───────────────┐\n",
       "│     ┆ name           ┆ ingredients    ┆ instructions  ┆ link          ┆ source   ┆ NER           │\n",
       "│ --- ┆ ---            ┆ ---            ┆ ---           ┆ ---           ┆ ---      ┆ ---           │\n",
       "│ i64 ┆ str            ┆ str            ┆ str           ┆ str           ┆ str      ┆ str           │\n",
       "╞═════╪════════════════╪════════════════╪═══════════════╪═══════════════╪══════════╪═══════════════╡\n",
       "│ 0   ┆ No-Bake Nut    ┆ [\"1 c. firmly  ┆ [\"In a heavy  ┆ www.cookbooks ┆ Gathered ┆ [\"brown       │\n",
       "│     ┆ Cookies        ┆ packed brown   ┆ 2-quart       ┆ .com/Recipe-D ┆          ┆ sugar\",       │\n",
       "│     ┆                ┆ sug…           ┆ saucepan,…    ┆ etai…         ┆          ┆ \"milk\",       │\n",
       "│     ┆                ┆                ┆               ┆               ┆          ┆ \"vanil…       │\n",
       "│ 1   ┆ Jewell Ball'S  ┆ [\"1 small jar  ┆ [\"Place       ┆ www.cookbooks ┆ Gathered ┆ [\"beef\",      │\n",
       "│     ┆ Chicken        ┆ chipped beef,  ┆ chipped beef  ┆ .com/Recipe-D ┆          ┆ \"chicken      │\n",
       "│     ┆                ┆ cu…            ┆ on bottom…    ┆ etai…         ┆          ┆ breasts\", \"c… │\n",
       "│ 2   ┆ Creamy Corn    ┆ [\"2 (16 oz.)   ┆ [\"In a slow   ┆ www.cookbooks ┆ Gathered ┆ [\"frozen      │\n",
       "│     ┆                ┆ pkg. frozen    ┆ cooker,       ┆ .com/Recipe-D ┆          ┆ corn\", \"cream │\n",
       "│     ┆                ┆ corn\"…         ┆ combine al…   ┆ etai…         ┆          ┆ cheese\"…      │\n",
       "│ 3   ┆ Chicken Funny  ┆ [\"1 large      ┆ [\"Boil and    ┆ www.cookbooks ┆ Gathered ┆ [\"chicken\",   │\n",
       "│     ┆                ┆ whole          ┆ debone        ┆ .com/Recipe-D ┆          ┆ \"chicken      │\n",
       "│     ┆                ┆ chicken\", \"2   ┆ chicken.\", \"… ┆ etai…         ┆          ┆ gravy\", \"…    │\n",
       "│     ┆                ┆ (…             ┆               ┆               ┆          ┆               │\n",
       "│ 4   ┆ Reeses         ┆ [\"1 c. peanut  ┆ [\"Combine     ┆ www.cookbooks ┆ Gathered ┆ [\"peanut      │\n",
       "│     ┆ Cups(Candy)    ┆ butter\", \"3/4  ┆ first four    ┆ .com/Recipe-D ┆          ┆ butter\",      │\n",
       "│     ┆                ┆ c.…            ┆ ingredien…    ┆ etai…         ┆          ┆ \"graham crac… │\n",
       "└─────┴────────────────┴────────────────┴───────────────┴───────────────┴──────────┴───────────────┘"
      ],
      "text/html": [
       "<div><style>\n",
       ".dataframe > thead > tr,\n",
       ".dataframe > tbody > tr {\n",
       "  text-align: right;\n",
       "  white-space: pre-wrap;\n",
       "}\n",
       "</style>\n",
       "<small>shape: (5, 7)</small><table border=\"1\" class=\"dataframe\"><thead><tr><th></th><th>name</th><th>ingredients</th><th>instructions</th><th>link</th><th>source</th><th>NER</th></tr><tr><td>i64</td><td>str</td><td>str</td><td>str</td><td>str</td><td>str</td><td>str</td></tr></thead><tbody><tr><td>0</td><td>&quot;No-Bake Nut Cookies&quot;</td><td>&quot;[&quot;1 c. firmly packed brown sug…</td><td>&quot;[&quot;In a heavy 2-quart saucepan,…</td><td>&quot;www.cookbooks.com/Recipe-Detai…</td><td>&quot;Gathered&quot;</td><td>&quot;[&quot;brown sugar&quot;, &quot;milk&quot;, &quot;vanil…</td></tr><tr><td>1</td><td>&quot;Jewell Ball&#x27;S Chicken&quot;</td><td>&quot;[&quot;1 small jar chipped beef, cu…</td><td>&quot;[&quot;Place chipped beef on bottom…</td><td>&quot;www.cookbooks.com/Recipe-Detai…</td><td>&quot;Gathered&quot;</td><td>&quot;[&quot;beef&quot;, &quot;chicken breasts&quot;, &quot;c…</td></tr><tr><td>2</td><td>&quot;Creamy Corn&quot;</td><td>&quot;[&quot;2 (16 oz.) pkg. frozen corn&quot;…</td><td>&quot;[&quot;In a slow cooker, combine al…</td><td>&quot;www.cookbooks.com/Recipe-Detai…</td><td>&quot;Gathered&quot;</td><td>&quot;[&quot;frozen corn&quot;, &quot;cream cheese&quot;…</td></tr><tr><td>3</td><td>&quot;Chicken Funny&quot;</td><td>&quot;[&quot;1 large whole chicken&quot;, &quot;2 (…</td><td>&quot;[&quot;Boil and debone chicken.&quot;, &quot;…</td><td>&quot;www.cookbooks.com/Recipe-Detai…</td><td>&quot;Gathered&quot;</td><td>&quot;[&quot;chicken&quot;, &quot;chicken gravy&quot;, &quot;…</td></tr><tr><td>4</td><td>&quot;Reeses Cups(Candy)&nbsp;&nbsp;&quot;</td><td>&quot;[&quot;1 c. peanut butter&quot;, &quot;3/4 c.…</td><td>&quot;[&quot;Combine first four ingredien…</td><td>&quot;www.cookbooks.com/Recipe-Detai…</td><td>&quot;Gathered&quot;</td><td>&quot;[&quot;peanut butter&quot;, &quot;graham crac…</td></tr></tbody></table></div>"
      ]
     },
     "execution_count": 21,
     "metadata": {},
     "output_type": "execute_result"
    }
   ],
   "execution_count": 21
  },
  {
   "metadata": {
    "ExecuteTime": {
     "end_time": "2025-03-06T21:46:48.457141Z",
     "start_time": "2025-03-06T21:46:48.446729Z"
    }
   },
   "cell_type": "code",
   "source": "df.dtypes",
   "id": "781159b0b3d5b01a",
   "outputs": [
    {
     "data": {
      "text/plain": [
       "[Int64, String, String, String, String, String, String]"
      ]
     },
     "execution_count": 22,
     "metadata": {},
     "output_type": "execute_result"
    }
   ],
   "execution_count": 22
  },
  {
   "metadata": {
    "ExecuteTime": {
     "end_time": "2025-03-06T21:47:53.285300Z",
     "start_time": "2025-03-06T21:46:48.591790Z"
    }
   },
   "cell_type": "code",
   "source": [
    "import json\n",
    "\n",
    "def safe_literal_eval(val):\n",
    "    try:\n",
    "        return json.loads(val) if isinstance(val, str) else val\n",
    "    except (json.JSONDecodeError, ValueError, TypeError):\n",
    "        return []\n",
    "\n",
    "# Apply categorization functions efficiently\n",
    "df = df.with_columns(\n",
    "    pl.col(\"ingredients\").map_elements(\n",
    "        safe_literal_eval,\n",
    "        return_dtype=pl.List(pl.Utf8)).alias(\"ingredients\"),\n",
    "    pl.col(\"instructions\").map_elements(\n",
    "        safe_literal_eval,\n",
    "        return_dtype=pl.List(pl.Utf8)).alias(\"instructions\"),\n",
    "    pl.col(\"NER\").map_elements(\n",
    "        safe_literal_eval,\n",
    "        return_dtype=pl.List(pl.Utf8)).alias(\"NER\")\n",
    ")\n",
    "\n",
    "df.head()"
   ],
   "id": "ab2a19acd8cb8557",
   "outputs": [
    {
     "data": {
      "text/plain": [
       "shape: (5, 7)\n",
       "┌─────┬────────────────┬────────────────┬───────────────┬───────────────┬──────────┬───────────────┐\n",
       "│     ┆ name           ┆ ingredients    ┆ instructions  ┆ link          ┆ source   ┆ NER           │\n",
       "│ --- ┆ ---            ┆ ---            ┆ ---           ┆ ---           ┆ ---      ┆ ---           │\n",
       "│ i64 ┆ str            ┆ list[str]      ┆ list[str]     ┆ str           ┆ str      ┆ list[str]     │\n",
       "╞═════╪════════════════╪════════════════╪═══════════════╪═══════════════╪══════════╪═══════════════╡\n",
       "│ 0   ┆ No-Bake Nut    ┆ [\"1 c. firmly  ┆ [\"In a heavy  ┆ www.cookbooks ┆ Gathered ┆ [\"brown       │\n",
       "│     ┆ Cookies        ┆ packed brown   ┆ 2-quart       ┆ .com/Recipe-D ┆          ┆ sugar\",       │\n",
       "│     ┆                ┆ sug…           ┆ saucepan,…    ┆ etai…         ┆          ┆ \"milk\", …     │\n",
       "│     ┆                ┆                ┆               ┆               ┆          ┆ \"bit…         │\n",
       "│ 1   ┆ Jewell Ball'S  ┆ [\"1 small jar  ┆ [\"Place       ┆ www.cookbooks ┆ Gathered ┆ [\"beef\",      │\n",
       "│     ┆ Chicken        ┆ chipped beef,  ┆ chipped beef  ┆ .com/Recipe-D ┆          ┆ \"chicken      │\n",
       "│     ┆                ┆ cu…            ┆ on bottom…    ┆ etai…         ┆          ┆ breasts\", … … │\n",
       "│ 2   ┆ Creamy Corn    ┆ [\"2 (16 oz.)   ┆ [\"In a slow   ┆ www.cookbooks ┆ Gathered ┆ [\"frozen      │\n",
       "│     ┆                ┆ pkg. frozen    ┆ cooker,       ┆ .com/Recipe-D ┆          ┆ corn\", \"cream │\n",
       "│     ┆                ┆ corn\"…         ┆ combine al…   ┆ etai…         ┆          ┆ cheese\"…      │\n",
       "│ 3   ┆ Chicken Funny  ┆ [\"1 large      ┆ [\"Boil and    ┆ www.cookbooks ┆ Gathered ┆ [\"chicken\",   │\n",
       "│     ┆                ┆ whole          ┆ debone        ┆ .com/Recipe-D ┆          ┆ \"chicken      │\n",
       "│     ┆                ┆ chicken\", \"2   ┆ chicken.\", \"… ┆ etai…         ┆          ┆ gravy\", ……    │\n",
       "│     ┆                ┆ (…             ┆               ┆               ┆          ┆               │\n",
       "│ 4   ┆ Reeses         ┆ [\"1 c. peanut  ┆ [\"Combine     ┆ www.cookbooks ┆ Gathered ┆ [\"peanut      │\n",
       "│     ┆ Cups(Candy)    ┆ butter\", \"3/4  ┆ first four    ┆ .com/Recipe-D ┆          ┆ butter\",      │\n",
       "│     ┆                ┆ c.…            ┆ ingredien…    ┆ etai…         ┆          ┆ \"graham crac… │\n",
       "└─────┴────────────────┴────────────────┴───────────────┴───────────────┴──────────┴───────────────┘"
      ],
      "text/html": [
       "<div><style>\n",
       ".dataframe > thead > tr,\n",
       ".dataframe > tbody > tr {\n",
       "  text-align: right;\n",
       "  white-space: pre-wrap;\n",
       "}\n",
       "</style>\n",
       "<small>shape: (5, 7)</small><table border=\"1\" class=\"dataframe\"><thead><tr><th></th><th>name</th><th>ingredients</th><th>instructions</th><th>link</th><th>source</th><th>NER</th></tr><tr><td>i64</td><td>str</td><td>list[str]</td><td>list[str]</td><td>str</td><td>str</td><td>list[str]</td></tr></thead><tbody><tr><td>0</td><td>&quot;No-Bake Nut Cookies&quot;</td><td>[&quot;1 c. firmly packed brown sugar&quot;, &quot;1/2 c. evaporated milk&quot;, … &quot;3 1/2 c. bite size shredded rice biscuits&quot;]</td><td>[&quot;In a heavy 2-quart saucepan, mix brown sugar, nuts, evaporated milk and butter or margarine.&quot;, &quot;Stir over medium heat until mixture bubbles all over top.&quot;, … &quot;Let stand until firm, about 30 minutes.&quot;]</td><td>&quot;www.cookbooks.com/Recipe-Detai…</td><td>&quot;Gathered&quot;</td><td>[&quot;brown sugar&quot;, &quot;milk&quot;, … &quot;bite size shredded rice biscuits&quot;]</td></tr><tr><td>1</td><td>&quot;Jewell Ball&#x27;S Chicken&quot;</td><td>[&quot;1 small jar chipped beef, cut up&quot;, &quot;4 boned chicken breasts&quot;, … &quot;1 carton sour cream&quot;]</td><td>[&quot;Place chipped beef on bottom of baking dish.&quot;, &quot;Place chicken on top of beef.&quot;, &quot;Mix soup and cream together; pour over chicken. Bake, uncovered, at 275° for 3 hours.&quot;]</td><td>&quot;www.cookbooks.com/Recipe-Detai…</td><td>&quot;Gathered&quot;</td><td>[&quot;beef&quot;, &quot;chicken breasts&quot;, … &quot;sour cream&quot;]</td></tr><tr><td>2</td><td>&quot;Creamy Corn&quot;</td><td>[&quot;2 (16 oz.) pkg. frozen corn&quot;, &quot;1 (8 oz.) pkg. cream cheese, cubed&quot;, … &quot;1/4 tsp. pepper&quot;]</td><td>[&quot;In a slow cooker, combine all ingredients. Cover and cook on low for 4 hours or until heated through and cheese is melted. Stir well before serving. Yields 6 servings.&quot;]</td><td>&quot;www.cookbooks.com/Recipe-Detai…</td><td>&quot;Gathered&quot;</td><td>[&quot;frozen corn&quot;, &quot;cream cheese&quot;, … &quot;pepper&quot;]</td></tr><tr><td>3</td><td>&quot;Chicken Funny&quot;</td><td>[&quot;1 large whole chicken&quot;, &quot;2 (10 1/2 oz.) cans chicken gravy&quot;, … &quot;4 oz. shredded cheese&quot;]</td><td>[&quot;Boil and debone chicken.&quot;, &quot;Put bite size pieces in average size square casserole dish.&quot;, … &quot;Sprinkle shredded cheese on top and bake at 350° for approximately 20 minutes or until golden and bubbly.&quot;]</td><td>&quot;www.cookbooks.com/Recipe-Detai…</td><td>&quot;Gathered&quot;</td><td>[&quot;chicken&quot;, &quot;chicken gravy&quot;, … &quot;shredded cheese&quot;]</td></tr><tr><td>4</td><td>&quot;Reeses Cups(Candy)&nbsp;&nbsp;&quot;</td><td>[&quot;1 c. peanut butter&quot;, &quot;3/4 c. graham cracker crumbs&quot;, … &quot;1 large pkg. chocolate chips&quot;]</td><td>[&quot;Combine first four ingredients and press in 13 x 9-inch ungreased pan.&quot;, &quot;Melt chocolate chips and spread over mixture. Refrigerate for about 20 minutes and cut into pieces before chocolate gets hard.&quot;, &quot;Keep in refrigerator.&quot;]</td><td>&quot;www.cookbooks.com/Recipe-Detai…</td><td>&quot;Gathered&quot;</td><td>[&quot;peanut butter&quot;, &quot;graham cracker crumbs&quot;, … &quot;chocolate chips&quot;]</td></tr></tbody></table></div>"
      ]
     },
     "execution_count": 23,
     "metadata": {},
     "output_type": "execute_result"
    }
   ],
   "execution_count": 23
  },
  {
   "metadata": {
    "ExecuteTime": {
     "end_time": "2025-03-06T21:48:52.587480Z",
     "start_time": "2025-03-06T21:48:52.583538Z"
    }
   },
   "cell_type": "code",
   "source": "df.tail(20)",
   "id": "b27acf52bfcd94ef",
   "outputs": [
    {
     "data": {
      "text/plain": [
       "shape: (20, 9)\n",
       "┌─────────┬────────────┬───────────┬───────────┬───┬───────────┬───────────┬───────────┬───────────┐\n",
       "│         ┆ name       ┆ ingredien ┆ instructi ┆ … ┆ source    ┆ NER       ┆ meal_cour ┆ dietary_t │\n",
       "│ ---     ┆ ---        ┆ ts        ┆ ons       ┆   ┆ ---       ┆ ---       ┆ se        ┆ ags       │\n",
       "│ i64     ┆ str        ┆ ---       ┆ ---       ┆   ┆ str       ┆ list[str] ┆ ---       ┆ ---       │\n",
       "│         ┆            ┆ list[str] ┆ list[str] ┆   ┆           ┆           ┆ list[str] ┆ list[str] │\n",
       "╞═════════╪════════════╪═══════════╪═══════════╪═══╪═══════════╪═══════════╪═══════════╪═══════════╡\n",
       "│ 2231122 ┆ Breakfast  ┆ [\"1       ┆ [\"Preheat ┆ … ┆ Recipes1M ┆ [\"ENCHILA ┆ [\"miscell ┆ [\"Halal\", │\n",
       "│         ┆ Enchiladas ┆ ENCHILADA ┆ oven to   ┆   ┆           ┆ DA\", \"hot ┆ aneous\"]  ┆ \"Kosher\", │\n",
       "│         ┆            ┆ FILLING\", ┆ 350.\",    ┆   ┆           ┆ ground    ┆           ┆ \"Vegetari │\n",
       "│         ┆            ┆ \"2 lb …   ┆ \"Cook…    ┆   ┆           ┆ pork…     ┆           ┆ a…        │\n",
       "│ 2231123 ┆ Latin-Spic ┆ [\"1       ┆ [\"In a    ┆ … ┆ Recipes1M ┆ [\"ground  ┆ [\"miscell ┆ [\"Vegan\", │\n",
       "│         ┆ ed Rib Eye ┆ teaspoon  ┆ small     ┆   ┆           ┆ cumin\",   ┆ aneous\"]  ┆ \"Halal\",  │\n",
       "│         ┆ with Saut… ┆ ground    ┆ bowl,     ┆   ┆           ┆ \"oregano\" ┆           ┆ … \"Vegeta │\n",
       "│         ┆            ┆ cumin\",   ┆ combine   ┆   ┆           ┆ , … …     ┆           ┆ ri…       │\n",
       "│         ┆            ┆ \"1…       ┆ the…      ┆   ┆           ┆           ┆           ┆           │\n",
       "│ 2231124 ┆ Chocolate  ┆ [\"6 1/2   ┆ [\"Heat    ┆ … ┆ Recipes1M ┆ [\"unsalte ┆ [\"dessert ┆ [\"Vegan\", │\n",
       "│         ┆ Crumble    ┆ tablespoo ┆ the oven  ┆   ┆           ┆ d         ┆ \",        ┆ \"Halal\",  │\n",
       "│         ┆            ┆ ns (94g)  ┆ to 375F   ┆   ┆           ┆ butter\",  ┆ \"snack\"]  ┆ … \"Vegeta │\n",
       "│         ┆            ┆ unsa…     ┆ or 350…   ┆   ┆           ┆ \"cocoa\",  ┆           ┆ ri…       │\n",
       "│         ┆            ┆           ┆           ┆   ┆           ┆ ……        ┆           ┆           │\n",
       "│ 2231125 ┆ Cran-Apple ┆ [\"12      ┆ [\"Melt    ┆ … ┆ Recipes1M ┆ [\"chocola ┆ [\"dessert ┆ [\"Vegan\", │\n",
       "│         ┆ White      ┆ ounces    ┆ chocolate ┆   ┆           ┆ te        ┆ \",        ┆ \"Halal\",  │\n",
       "│         ┆ Chocolate  ┆ white     ┆ in large  ┆   ┆           ┆ chips\",   ┆ \"snack\"]  ┆ … \"Vegeta │\n",
       "│         ┆ Pop…       ┆ chocolate ┆ bowl…     ┆   ┆           ┆ \"ground   ┆           ┆ ri…       │\n",
       "│         ┆            ┆ ch…       ┆           ┆   ┆           ┆ ci…       ┆           ┆           │\n",
       "│ 2231126 ┆ Cucumber   ┆ [\"1       ┆ [\"Prepare ┆ … ┆ Recipes1M ┆ [\"cucumbe ┆ [\"sandwic ┆ [\"Halal\", │\n",
       "│         ┆ Sandwiches ┆ cucumber, ┆ ahead\",   ┆   ┆           ┆ r\",       ┆ h/burger\" ┆ \"Kosher\", │\n",
       "│         ┆            ┆ lightly   ┆ \"Step 1   ┆   ┆           ┆ \"salt\", … ┆ ]         ┆ \"Vegetari │\n",
       "│         ┆            ┆ peeled\",… ┆ can …     ┆   ┆           ┆ \"waterc…  ┆           ┆ a…        │\n",
       "│ …       ┆ …          ┆ …         ┆ …         ┆ … ┆ …         ┆ …         ┆ …         ┆ …         │\n",
       "│ 2231137 ┆ Sunny's    ┆ [\"1/2 cup ┆ [\"Spread  ┆ … ┆ Recipes1M ┆ [\"chocola ┆ [\"breakfa ┆ [\"Halal\", │\n",
       "│         ┆ Fake       ┆ chocolate ┆ hazelnut  ┆   ┆           ┆ te        ┆ st\"]      ┆ \"Kosher\", │\n",
       "│         ┆ Crepes     ┆ hazelnut  ┆ spread on ┆   ┆           ┆ hazelnut  ┆           ┆ \"Vegetari │\n",
       "│         ┆            ┆ s…        ┆ 1 …       ┆   ┆           ┆ spread\",  ┆           ┆ a…        │\n",
       "│         ┆            ┆           ┆           ┆   ┆           ┆ …         ┆           ┆           │\n",
       "│ 2231138 ┆ Devil Eggs ┆ [\"1 dozen ┆ [\"Boil    ┆ … ┆ Recipes1M ┆ [\"eggs\",  ┆ [\"miscell ┆ [\"Halal\", │\n",
       "│         ┆            ┆ eggs\", \"1 ┆ eggs on   ┆   ┆           ┆ \"paprika\" ┆ aneous\"]  ┆ \"Kosher\", │\n",
       "│         ┆            ┆ paprika\", ┆ medium    ┆   ┆           ┆ , …       ┆           ┆ \"Vegetari │\n",
       "│         ┆            ┆ …         ┆ for 30mi… ┆   ┆           ┆ \"relish\"… ┆           ┆ a…        │\n",
       "│ 2231139 ┆ Extremely  ┆ [\"150     ┆ [\"Julienn ┆ … ┆ Recipes1M ┆ [\"radish\" ┆ [\"side\",  ┆ [\"Vegan\", │\n",
       "│         ┆ Easy and   ┆ grams     ┆ e the     ┆   ┆           ┆ , \"Sesame ┆ \"appetize ┆ \"Halal\",  │\n",
       "│         ┆ Quick -    ┆ Daikon    ┆ daikon    ┆   ┆           ┆ oil\", …   ┆ r\"]       ┆ … \"Vegeta │\n",
       "│         ┆ Nam…       ┆ radish\",  ┆ and sque… ┆   ┆           ┆ \"So…      ┆           ┆ ri…       │\n",
       "│         ┆            ┆ \"1…       ┆           ┆   ┆           ┆           ┆           ┆           │\n",
       "│ 2231140 ┆ Pan-Roaste ┆ [\"1 cup   ┆ [\"In a    ┆ … ┆ Recipes1M ┆ [\"apple   ┆ [\"dinner\" ┆ [\"Non-Hal │\n",
       "│         ┆ d Pork     ┆ apple     ┆ large     ┆   ┆           ┆ cider\",   ┆ ,         ┆ al\", \"Non │\n",
       "│         ┆ Chops With ┆ cider\",   ┆ bowl, mix ┆   ┆           ┆ \"sugar\",  ┆ \"lunch\"]  ┆ -Kosher\"] │\n",
       "│         ┆ Ap…        ┆ \"6 table… ┆ the app…  ┆   ┆           ┆ … \"ne…    ┆           ┆           │\n",
       "│ 2231141 ┆ Polpette   ┆ [\"1 pound ┆ [\"Preheat ┆ … ┆ Recipes1M ┆ [\"ground  ┆ [\"miscell ┆ [\"Halal\", │\n",
       "│         ┆ in Spicy   ┆ ground    ┆ the oven  ┆   ┆           ┆ veal\",    ┆ aneous\"]  ┆ \"Kosher\", │\n",
       "│         ┆ Tomato     ┆ veal\",    ┆ to 350.\", ┆   ┆           ┆ \"sausage\" ┆           ┆ \"Vegetari │\n",
       "│         ┆ Sauce      ┆ \"1/2 p…   ┆ \"…        ┆   ┆           ┆ , … \"…    ┆           ┆ a…        │\n",
       "└─────────┴────────────┴───────────┴───────────┴───┴───────────┴───────────┴───────────┴───────────┘"
      ],
      "text/html": [
       "<div><style>\n",
       ".dataframe > thead > tr,\n",
       ".dataframe > tbody > tr {\n",
       "  text-align: right;\n",
       "  white-space: pre-wrap;\n",
       "}\n",
       "</style>\n",
       "<small>shape: (20, 9)</small><table border=\"1\" class=\"dataframe\"><thead><tr><th></th><th>name</th><th>ingredients</th><th>instructions</th><th>link</th><th>source</th><th>NER</th><th>meal_course</th><th>dietary_tags</th></tr><tr><td>i64</td><td>str</td><td>list[str]</td><td>list[str]</td><td>str</td><td>str</td><td>list[str]</td><td>list[str]</td><td>list[str]</td></tr></thead><tbody><tr><td>2231122</td><td>&quot;Breakfast Enchiladas&quot;</td><td>[&quot;1 ENCHILADA FILLING&quot;, &quot;2 lb hot ground pork sausage (1 1/2 lbs. for filling, 1/2 lb. used as topping; set aside)&quot;, … &quot;1/2 pd crumbled cooked sausage, 1 package halved grape tomatoes, 4 sliced green onions, 1 tablespoon chopped fresh cilantro (top enchiladas after baked)&quot;]</td><td>[&quot;Preheat oven to 350.&quot;, &quot;Cook sausage in a large nonstick skillet over medium-high heat, stirring until sausage crumbles are cooked through.&quot;, … &quot;When enchiladas are done; sprinkle down the center in this order; 1/2 pd crumbled sausage, halved grape tomatoes, green onions and fresh cilantro.&quot;]</td><td>&quot;cookpad.com/us/recipes/349310-…</td><td>&quot;Recipes1M&quot;</td><td>[&quot;ENCHILADA&quot;, &quot;hot ground pork sausage&quot;, … &quot;sausage&quot;]</td><td>[&quot;miscellaneous&quot;]</td><td>[&quot;Halal&quot;, &quot;Kosher&quot;, &quot;Vegetarian&quot;]</td></tr><tr><td>2231123</td><td>&quot;Latin-Spiced Rib Eye with Saut…</td><td>[&quot;1 teaspoon ground cumin&quot;, &quot;1 teaspoon dried oregano&quot;, … &quot;3/4 cup cilantro leaves&quot;]</td><td>[&quot;In a small bowl, combine the cumin, oregano and garlic and onion powders, 1 teaspoon of salt and 1/2 teaspoon of pepper.&quot;, &quot;Season the steaks on both sides with the spice mixture and rub them with the garlic puree.&quot;, … &quot;Transfer to plates, top with the cilantro and serve.&quot;]</td><td>&quot;www.foodandwine.com/recipes/la…</td><td>&quot;Recipes1M&quot;</td><td>[&quot;ground cumin&quot;, &quot;oregano&quot;, … &quot;cilantro&quot;]</td><td>[&quot;miscellaneous&quot;]</td><td>[&quot;Vegan&quot;, &quot;Halal&quot;, … &quot;Vegetarian&quot;]</td></tr><tr><td>2231124</td><td>&quot;Chocolate Crumble&quot;</td><td>[&quot;6 1/2 tablespoons (94g) unsalted butter, softened&quot;, &quot;1/3 cup (30g) unsweetened cocoa powder (preferably Valrhona)&quot;, … &quot;1/4 teaspoon (1g) coarse salt&quot;]</td><td>[&quot;Heat the oven to 375F or 350F on convection.&quot;, &quot;Line a baking sheet with a Silpat or parchment.&quot;, … &quot;Store in an airtight container for up to 1 week.&quot;]</td><td>&quot;www.epicurious.com/recipes/foo…</td><td>&quot;Recipes1M&quot;</td><td>[&quot;unsalted butter&quot;, &quot;cocoa&quot;, … &quot;salt&quot;]</td><td>[&quot;dessert&quot;, &quot;snack&quot;]</td><td>[&quot;Vegan&quot;, &quot;Halal&quot;, … &quot;Vegetarian&quot;]</td></tr><tr><td>2231125</td><td>&quot;Cran-Apple White Chocolate Pop…</td><td>[&quot;12 ounces white chocolate chips&quot;, &quot;12 teaspoon ground cinnamon&quot;, … &quot;23 cup dried cranberries&quot;]</td><td>[&quot;Melt chocolate in large bowl set over pot of simmering water, stirring frequently until smooth.&quot;, &quot;Add cinnamon and pumpkin pie spice and whisk to combine.&quot;, … &quot;Store for up to 3 days in covered container.&quot;]</td><td>&quot;www.food.com/recipe/cran-apple…</td><td>&quot;Recipes1M&quot;</td><td>[&quot;chocolate chips&quot;, &quot;ground cinnamon&quot;, … &quot;cranberries&quot;]</td><td>[&quot;dessert&quot;, &quot;snack&quot;]</td><td>[&quot;Vegan&quot;, &quot;Halal&quot;, … &quot;Vegetarian&quot;]</td></tr><tr><td>2231126</td><td>&quot;Cucumber Sandwiches&quot;</td><td>[&quot;1 cucumber, lightly peeled&quot;, &quot;1/2 tsp salt&quot;, … &quot;Tiny watercress leaves, or microgreens, to garnish&quot;]</td><td>[&quot;Prepare ahead&quot;, &quot;Step 1 can be completed 1 hour in advance, and the cucumber slices stored in the refrigerator.&quot;, … &quot;As an alternative to butter, spread the bread with cream cheese or soft goat cheese.&quot;]</td><td>&quot;www.cookstr.com/recipes/cucumb…</td><td>&quot;Recipes1M&quot;</td><td>[&quot;cucumber&quot;, &quot;salt&quot;, … &quot;watercress leaves&quot;]</td><td>[&quot;sandwich/burger&quot;]</td><td>[&quot;Halal&quot;, &quot;Kosher&quot;, &quot;Vegetarian&quot;]</td></tr><tr><td>&hellip;</td><td>&hellip;</td><td>&hellip;</td><td>&hellip;</td><td>&hellip;</td><td>&hellip;</td><td>&hellip;</td><td>&hellip;</td><td>&hellip;</td></tr><tr><td>2231137</td><td>&quot;Sunny&#x27;s Fake Crepes&quot;</td><td>[&quot;1/2 cup chocolate hazelnut spread (recommended: Nutella)&quot;, &quot;4 (8-inch) round whole-wheat tortillas, room temperature&quot;, … &quot;1/2 cup finely chopped toasted hazelnuts&quot;]</td><td>[&quot;Spread hazelnut spread on 1 side of each tortilla.&quot;, &quot;In a large pan over medium heat add 2 tablespoons of butter and let it melt until bubbly.&quot;, … &quot;Arrange them on a serving platter and serve immediately.&quot;]</td><td>&quot;www.foodnetwork.com/recipes/su…</td><td>&quot;Recipes1M&quot;</td><td>[&quot;chocolate hazelnut spread&quot;, &quot;tortillas&quot;, … &quot;hazelnuts&quot;]</td><td>[&quot;breakfast&quot;]</td><td>[&quot;Halal&quot;, &quot;Kosher&quot;, &quot;Vegetarian&quot;]</td></tr><tr><td>2231138</td><td>&quot;Devil Eggs&quot;</td><td>[&quot;1 dozen eggs&quot;, &quot;1 paprika&quot;, … &quot;3 tbsp relish&quot;]</td><td>[&quot;Boil eggs on medium for 30mins.&quot;, &quot;Then cool eggs down in cold water for approximately 5 mins.&quot;, … &quot;finish touch sprinkle paprika on top.&quot;]</td><td>&quot;cookpad.com/us/recipes/355411-…</td><td>&quot;Recipes1M&quot;</td><td>[&quot;eggs&quot;, &quot;paprika&quot;, … &quot;relish&quot;]</td><td>[&quot;miscellaneous&quot;]</td><td>[&quot;Halal&quot;, &quot;Kosher&quot;, &quot;Vegetarian&quot;]</td></tr><tr><td>2231139</td><td>&quot;Extremely Easy and Quick - Nam…</td><td>[&quot;150 grams Daikon radish&quot;, &quot;1 tbsp Sesame oil&quot;, … &quot;1 tsp Soy sauce&quot;]</td><td>[&quot;Julienne the daikon and squeeze out the excess moisture.&quot;, &quot;Combine all of the ingredients.&quot;, &quot;Serve on a dish.&quot;]</td><td>&quot;cookpad.com/us/recipes/153324-…</td><td>&quot;Recipes1M&quot;</td><td>[&quot;radish&quot;, &quot;Sesame oil&quot;, … &quot;Soy sauce&quot;]</td><td>[&quot;side&quot;, &quot;appetizer&quot;]</td><td>[&quot;Vegan&quot;, &quot;Halal&quot;, … &quot;Vegetarian&quot;]</td></tr><tr><td>2231140</td><td>&quot;Pan-Roasted Pork Chops With Ap…</td><td>[&quot;1 cup apple cider&quot;, &quot;6 tablespoons sugar&quot;, … &quot;1 cup neutral oil, like canola&quot;]</td><td>[&quot;In a large bowl, mix the apple cider with 4 cups of water, the sugar and the salt.&quot;, &quot;Toast the bay leaves, chilies, juniper berries, caraway seeds, mustard seeds and coriander seeds in a small pan set over medium heat until you can smell them, then add to the brine, and stir to combine.&quot;, … &quot;The usual accompaniment is potato-and-horseradish pierogies sauteed in brown butter, though roasted new potatoes with a topping of butter and freshly grated horseradish will answer almost as well.&quot;]</td><td>&quot;cooking.nytimes.com/recipes/10…</td><td>&quot;Recipes1M&quot;</td><td>[&quot;apple cider&quot;, &quot;sugar&quot;, … &quot;neutral oil&quot;]</td><td>[&quot;dinner&quot;, &quot;lunch&quot;]</td><td>[&quot;Non-Halal&quot;, &quot;Non-Kosher&quot;]</td></tr><tr><td>2231141</td><td>&quot;Polpette in Spicy Tomato Sauce&quot;</td><td>[&quot;1 pound ground veal&quot;, &quot;1/2 pound sweet Italian sausage, casings removed&quot;, … &quot;Large pinch of crushed red pepper&quot;]</td><td>[&quot;Preheat the oven to 350.&quot;, &quot;In a bowl, mix the veal with the sausage meat, bread crumbs, milk, garlic, chopped parsley, egg whites, tomato paste and 1/2 cup of pecorino; season with salt and pepper.&quot;, … &quot;Sprinkle with pecorino cheese and serve.&quot;]</td><td>&quot;www.foodandwine.com/recipes/po…</td><td>&quot;Recipes1M&quot;</td><td>[&quot;ground veal&quot;, &quot;sausage&quot;, … &quot;red pepper&quot;]</td><td>[&quot;miscellaneous&quot;]</td><td>[&quot;Halal&quot;, &quot;Kosher&quot;, &quot;Vegetarian&quot;]</td></tr></tbody></table></div>"
      ]
     },
     "execution_count": 29,
     "metadata": {},
     "output_type": "execute_result"
    }
   ],
   "execution_count": 29
  },
  {
   "metadata": {
    "ExecuteTime": {
     "end_time": "2025-03-06T21:47:54.352018Z",
     "start_time": "2025-03-06T21:47:54.349203Z"
    }
   },
   "cell_type": "code",
   "source": "df.dtypes",
   "id": "41e007a501d16d08",
   "outputs": [
    {
     "data": {
      "text/plain": [
       "[Int64, String, List(String), List(String), String, String, List(String)]"
      ]
     },
     "execution_count": 25,
     "metadata": {},
     "output_type": "execute_result"
    }
   ],
   "execution_count": 25
  },
  {
   "metadata": {
    "ExecuteTime": {
     "end_time": "2025-03-06T21:48:51.670371Z",
     "start_time": "2025-03-06T21:47:55.421032Z"
    }
   },
   "cell_type": "code",
   "source": [
    "# Apply categorization functions efficiently\n",
    "df = df.with_columns(\n",
    "    pl.struct([\"name\", \"NER\"]).map_elements(\n",
    "        lambda row: categorize_meal_course(row[\"name\"], row[\"NER\"]),\n",
    "        return_dtype=pl.List(pl.Utf8)).alias(\"meal_course\"),\n",
    "\n",
    "    pl.col(\"NER\").map_elements(\n",
    "        categorize_dietary_tags,\n",
    "        return_dtype=pl.List(pl.Utf8)).alias(\"dietary_tags\")\n",
    ")\n",
    "df.head()"
   ],
   "id": "6cfe83aee2accc4e",
   "outputs": [
    {
     "data": {
      "text/plain": [
       "shape: (5, 9)\n",
       "┌─────┬────────────┬────────────┬────────────┬───┬──────────┬────────────┬────────────┬────────────┐\n",
       "│     ┆ name       ┆ ingredient ┆ instructio ┆ … ┆ source   ┆ NER        ┆ meal_cours ┆ dietary_ta │\n",
       "│ --- ┆ ---        ┆ s          ┆ ns         ┆   ┆ ---      ┆ ---        ┆ e          ┆ gs         │\n",
       "│ i64 ┆ str        ┆ ---        ┆ ---        ┆   ┆ str      ┆ list[str]  ┆ ---        ┆ ---        │\n",
       "│     ┆            ┆ list[str]  ┆ list[str]  ┆   ┆          ┆            ┆ list[str]  ┆ list[str]  │\n",
       "╞═════╪════════════╪════════════╪════════════╪═══╪══════════╪════════════╪════════════╪════════════╡\n",
       "│ 0   ┆ No-Bake    ┆ [\"1 c.     ┆ [\"In a     ┆ … ┆ Gathered ┆ [\"brown    ┆ [\"dessert\" ┆ [\"Halal\",  │\n",
       "│     ┆ Nut        ┆ firmly     ┆ heavy      ┆   ┆          ┆ sugar\",    ┆ , \"snack\"] ┆ \"Kosher\",  │\n",
       "│     ┆ Cookies    ┆ packed     ┆ 2-quart    ┆   ┆          ┆ \"milk\", …  ┆            ┆ \"Vegetaria │\n",
       "│     ┆            ┆ brown sug… ┆ saucepan,… ┆   ┆          ┆ \"bit…      ┆            ┆ …          │\n",
       "│ 1   ┆ Jewell     ┆ [\"1 small  ┆ [\"Place    ┆ … ┆ Gathered ┆ [\"beef\",   ┆ [\"dinner\", ┆ [\"Halal\",  │\n",
       "│     ┆ Ball'S     ┆ jar        ┆ chipped    ┆   ┆          ┆ \"chicken   ┆ \"lunch\"]   ┆ \"Kosher\"]  │\n",
       "│     ┆ Chicken    ┆ chipped    ┆ beef on    ┆   ┆          ┆ breasts\",  ┆            ┆            │\n",
       "│     ┆            ┆ beef, cu…  ┆ bottom…    ┆   ┆          ┆ … …        ┆            ┆            │\n",
       "│ 2   ┆ Creamy     ┆ [\"2 (16    ┆ [\"In a     ┆ … ┆ Gathered ┆ [\"frozen   ┆ [\"miscella ┆ [\"Halal\",  │\n",
       "│     ┆ Corn       ┆ oz.) pkg.  ┆ slow       ┆   ┆          ┆ corn\",     ┆ neous\"]    ┆ \"Kosher\",  │\n",
       "│     ┆            ┆ frozen     ┆ cooker,    ┆   ┆          ┆ \"cream     ┆            ┆ \"Vegetaria │\n",
       "│     ┆            ┆ corn\"…     ┆ combine    ┆   ┆          ┆ cheese\"…   ┆            ┆ …          │\n",
       "│     ┆            ┆            ┆ al…        ┆   ┆          ┆            ┆            ┆            │\n",
       "│ 3   ┆ Chicken    ┆ [\"1 large  ┆ [\"Boil and ┆ … ┆ Gathered ┆ [\"chicken\" ┆ [\"dinner\", ┆ [\"Halal\",  │\n",
       "│     ┆ Funny      ┆ whole      ┆ debone     ┆   ┆          ┆ , \"chicken ┆ \"lunch\"]   ┆ \"Kosher\"]  │\n",
       "│     ┆            ┆ chicken\",  ┆ chicken.\", ┆   ┆          ┆ gravy\", …… ┆            ┆            │\n",
       "│     ┆            ┆ \"2 (…      ┆ \"…         ┆   ┆          ┆            ┆            ┆            │\n",
       "│ 4   ┆ Reeses Cup ┆ [\"1 c.     ┆ [\"Combine  ┆ … ┆ Gathered ┆ [\"peanut   ┆ [\"dessert\" ┆ [\"Halal\",  │\n",
       "│     ┆ s(Candy)   ┆ peanut     ┆ first four ┆   ┆          ┆ butter\",   ┆ , \"snack\"] ┆ \"Kosher\",  │\n",
       "│     ┆            ┆ butter\",   ┆ ingredien… ┆   ┆          ┆ \"graham    ┆            ┆ \"Vegetaria │\n",
       "│     ┆            ┆ \"3/4 c.…   ┆            ┆   ┆          ┆ crac…      ┆            ┆ …          │\n",
       "└─────┴────────────┴────────────┴────────────┴───┴──────────┴────────────┴────────────┴────────────┘"
      ],
      "text/html": [
       "<div><style>\n",
       ".dataframe > thead > tr,\n",
       ".dataframe > tbody > tr {\n",
       "  text-align: right;\n",
       "  white-space: pre-wrap;\n",
       "}\n",
       "</style>\n",
       "<small>shape: (5, 9)</small><table border=\"1\" class=\"dataframe\"><thead><tr><th></th><th>name</th><th>ingredients</th><th>instructions</th><th>link</th><th>source</th><th>NER</th><th>meal_course</th><th>dietary_tags</th></tr><tr><td>i64</td><td>str</td><td>list[str]</td><td>list[str]</td><td>str</td><td>str</td><td>list[str]</td><td>list[str]</td><td>list[str]</td></tr></thead><tbody><tr><td>0</td><td>&quot;No-Bake Nut Cookies&quot;</td><td>[&quot;1 c. firmly packed brown sugar&quot;, &quot;1/2 c. evaporated milk&quot;, … &quot;3 1/2 c. bite size shredded rice biscuits&quot;]</td><td>[&quot;In a heavy 2-quart saucepan, mix brown sugar, nuts, evaporated milk and butter or margarine.&quot;, &quot;Stir over medium heat until mixture bubbles all over top.&quot;, … &quot;Let stand until firm, about 30 minutes.&quot;]</td><td>&quot;www.cookbooks.com/Recipe-Detai…</td><td>&quot;Gathered&quot;</td><td>[&quot;brown sugar&quot;, &quot;milk&quot;, … &quot;bite size shredded rice biscuits&quot;]</td><td>[&quot;dessert&quot;, &quot;snack&quot;]</td><td>[&quot;Halal&quot;, &quot;Kosher&quot;, &quot;Vegetarian&quot;]</td></tr><tr><td>1</td><td>&quot;Jewell Ball&#x27;S Chicken&quot;</td><td>[&quot;1 small jar chipped beef, cut up&quot;, &quot;4 boned chicken breasts&quot;, … &quot;1 carton sour cream&quot;]</td><td>[&quot;Place chipped beef on bottom of baking dish.&quot;, &quot;Place chicken on top of beef.&quot;, &quot;Mix soup and cream together; pour over chicken. Bake, uncovered, at 275° for 3 hours.&quot;]</td><td>&quot;www.cookbooks.com/Recipe-Detai…</td><td>&quot;Gathered&quot;</td><td>[&quot;beef&quot;, &quot;chicken breasts&quot;, … &quot;sour cream&quot;]</td><td>[&quot;dinner&quot;, &quot;lunch&quot;]</td><td>[&quot;Halal&quot;, &quot;Kosher&quot;]</td></tr><tr><td>2</td><td>&quot;Creamy Corn&quot;</td><td>[&quot;2 (16 oz.) pkg. frozen corn&quot;, &quot;1 (8 oz.) pkg. cream cheese, cubed&quot;, … &quot;1/4 tsp. pepper&quot;]</td><td>[&quot;In a slow cooker, combine all ingredients. Cover and cook on low for 4 hours or until heated through and cheese is melted. Stir well before serving. Yields 6 servings.&quot;]</td><td>&quot;www.cookbooks.com/Recipe-Detai…</td><td>&quot;Gathered&quot;</td><td>[&quot;frozen corn&quot;, &quot;cream cheese&quot;, … &quot;pepper&quot;]</td><td>[&quot;miscellaneous&quot;]</td><td>[&quot;Halal&quot;, &quot;Kosher&quot;, &quot;Vegetarian&quot;]</td></tr><tr><td>3</td><td>&quot;Chicken Funny&quot;</td><td>[&quot;1 large whole chicken&quot;, &quot;2 (10 1/2 oz.) cans chicken gravy&quot;, … &quot;4 oz. shredded cheese&quot;]</td><td>[&quot;Boil and debone chicken.&quot;, &quot;Put bite size pieces in average size square casserole dish.&quot;, … &quot;Sprinkle shredded cheese on top and bake at 350° for approximately 20 minutes or until golden and bubbly.&quot;]</td><td>&quot;www.cookbooks.com/Recipe-Detai…</td><td>&quot;Gathered&quot;</td><td>[&quot;chicken&quot;, &quot;chicken gravy&quot;, … &quot;shredded cheese&quot;]</td><td>[&quot;dinner&quot;, &quot;lunch&quot;]</td><td>[&quot;Halal&quot;, &quot;Kosher&quot;]</td></tr><tr><td>4</td><td>&quot;Reeses Cups(Candy)&nbsp;&nbsp;&quot;</td><td>[&quot;1 c. peanut butter&quot;, &quot;3/4 c. graham cracker crumbs&quot;, … &quot;1 large pkg. chocolate chips&quot;]</td><td>[&quot;Combine first four ingredients and press in 13 x 9-inch ungreased pan.&quot;, &quot;Melt chocolate chips and spread over mixture. Refrigerate for about 20 minutes and cut into pieces before chocolate gets hard.&quot;, &quot;Keep in refrigerator.&quot;]</td><td>&quot;www.cookbooks.com/Recipe-Detai…</td><td>&quot;Gathered&quot;</td><td>[&quot;peanut butter&quot;, &quot;graham cracker crumbs&quot;, … &quot;chocolate chips&quot;]</td><td>[&quot;dessert&quot;, &quot;snack&quot;]</td><td>[&quot;Halal&quot;, &quot;Kosher&quot;, &quot;Vegetarian&quot;]</td></tr></tbody></table></div>"
      ]
     },
     "execution_count": 26,
     "metadata": {},
     "output_type": "execute_result"
    }
   ],
   "execution_count": 26
  },
  {
   "metadata": {
    "ExecuteTime": {
     "end_time": "2025-03-06T21:48:51.994844Z",
     "start_time": "2025-03-06T21:48:51.728445Z"
    }
   },
   "cell_type": "code",
   "source": "df[\"meal_course\"].value_counts()",
   "id": "b07a16fd23ee1d4a",
   "outputs": [
    {
     "data": {
      "text/plain": [
       "shape: (51, 2)\n",
       "┌─────────────────────────────────┬───────┐\n",
       "│ meal_course                     ┆ count │\n",
       "│ ---                             ┆ ---   │\n",
       "│ list[str]                       ┆ u32   │\n",
       "╞═════════════════════════════════╪═══════╡\n",
       "│ [\"side\", \"main\"]                ┆ 33764 │\n",
       "│ [\"pizza\", \"side\", … \"sandwich/… ┆ 5     │\n",
       "│ [\"dessert\", \"sandwich/burger\",… ┆ 9     │\n",
       "│ [\"side\", \"dinner\", … \"main\"]    ┆ 425   │\n",
       "│ [\"side\", \"dinner\", … \"sandwich… ┆ 27    │\n",
       "│ …                               ┆ …     │\n",
       "│ [\"snack\", \"dessert\", … \"sandwi… ┆ 1     │\n",
       "│ [\"pizza\", \"side\", … \"lunch\"]    ┆ 128   │\n",
       "│ [\"snack\", \"dessert\", … \"sandwi… ┆ 4     │\n",
       "│ [\"snack\", \"dessert\", … \"lunch\"… ┆ 6     │\n",
       "│ [\"dinner\", \"breakfast\", \"lunch… ┆ 9402  │\n",
       "└─────────────────────────────────┴───────┘"
      ],
      "text/html": [
       "<div><style>\n",
       ".dataframe > thead > tr,\n",
       ".dataframe > tbody > tr {\n",
       "  text-align: right;\n",
       "  white-space: pre-wrap;\n",
       "}\n",
       "</style>\n",
       "<small>shape: (51, 2)</small><table border=\"1\" class=\"dataframe\"><thead><tr><th>meal_course</th><th>count</th></tr><tr><td>list[str]</td><td>u32</td></tr></thead><tbody><tr><td>[&quot;side&quot;, &quot;main&quot;]</td><td>33764</td></tr><tr><td>[&quot;pizza&quot;, &quot;side&quot;, … &quot;sandwich/burger&quot;]</td><td>5</td></tr><tr><td>[&quot;dessert&quot;, &quot;sandwich/burger&quot;, … &quot;pizza&quot;]</td><td>9</td></tr><tr><td>[&quot;side&quot;, &quot;dinner&quot;, … &quot;main&quot;]</td><td>425</td></tr><tr><td>[&quot;side&quot;, &quot;dinner&quot;, … &quot;sandwich/burger&quot;]</td><td>27</td></tr><tr><td>&hellip;</td><td>&hellip;</td></tr><tr><td>[&quot;snack&quot;, &quot;dessert&quot;, … &quot;sandwich/burger&quot;]</td><td>1</td></tr><tr><td>[&quot;pizza&quot;, &quot;side&quot;, … &quot;lunch&quot;]</td><td>128</td></tr><tr><td>[&quot;snack&quot;, &quot;dessert&quot;, … &quot;sandwich/burger&quot;]</td><td>4</td></tr><tr><td>[&quot;snack&quot;, &quot;dessert&quot;, … &quot;lunch&quot;]</td><td>6</td></tr><tr><td>[&quot;dinner&quot;, &quot;breakfast&quot;, &quot;lunch&quot;]</td><td>9402</td></tr></tbody></table></div>"
      ]
     },
     "execution_count": 27,
     "metadata": {},
     "output_type": "execute_result"
    }
   ],
   "execution_count": 27
  },
  {
   "metadata": {
    "ExecuteTime": {
     "end_time": "2025-03-06T21:48:52.349405Z",
     "start_time": "2025-03-06T21:48:52.036582Z"
    }
   },
   "cell_type": "code",
   "source": "df[\"dietary_tags\"].value_counts()",
   "id": "584ea7a14c772fb0",
   "outputs": [
    {
     "data": {
      "text/plain": [
       "shape: (12, 2)\n",
       "┌─────────────────────────────────┬─────────┐\n",
       "│ dietary_tags                    ┆ count   │\n",
       "│ ---                             ┆ ---     │\n",
       "│ list[str]                       ┆ u32     │\n",
       "╞═════════════════════════════════╪═════════╡\n",
       "│ [\"Vegan\", \"Halal\", … \"Vegetari… ┆ 1038941 │\n",
       "│ [\"Non-Halal\", \"Kosher\"]         ┆ 88375   │\n",
       "│ [\"Halal\", \"Non-Kosher\"]         ┆ 46      │\n",
       "│ [\"Non-Halal\", \"Kosher\", \"Veget… ┆ 1564    │\n",
       "│ [\"Vegetarian\", \"Vegan\", … \"Non… ┆ 272     │\n",
       "│ …                               ┆ …       │\n",
       "│ [\"Non-Halal\", \"Vegetarian\", \"N… ┆ 1915    │\n",
       "│ [\"Non-Halal\", \"Vegetarian\", … … ┆ 2618    │\n",
       "│ [\"Vegetarian\", \"Halal\", \"Non-K… ┆ 121     │\n",
       "│ [\"Halal\", \"Kosher\"]             ┆ 159826  │\n",
       "│ [\"Non-Halal\", \"Vegan\", … \"Vege… ┆ 1896    │\n",
       "└─────────────────────────────────┴─────────┘"
      ],
      "text/html": [
       "<div><style>\n",
       ".dataframe > thead > tr,\n",
       ".dataframe > tbody > tr {\n",
       "  text-align: right;\n",
       "  white-space: pre-wrap;\n",
       "}\n",
       "</style>\n",
       "<small>shape: (12, 2)</small><table border=\"1\" class=\"dataframe\"><thead><tr><th>dietary_tags</th><th>count</th></tr><tr><td>list[str]</td><td>u32</td></tr></thead><tbody><tr><td>[&quot;Vegan&quot;, &quot;Halal&quot;, … &quot;Vegetarian&quot;]</td><td>1038941</td></tr><tr><td>[&quot;Non-Halal&quot;, &quot;Kosher&quot;]</td><td>88375</td></tr><tr><td>[&quot;Halal&quot;, &quot;Non-Kosher&quot;]</td><td>46</td></tr><tr><td>[&quot;Non-Halal&quot;, &quot;Kosher&quot;, &quot;Vegetarian&quot;]</td><td>1564</td></tr><tr><td>[&quot;Vegetarian&quot;, &quot;Vegan&quot;, … &quot;Non-Kosher&quot;]</td><td>272</td></tr><tr><td>&hellip;</td><td>&hellip;</td></tr><tr><td>[&quot;Non-Halal&quot;, &quot;Vegetarian&quot;, &quot;Non-Kosher&quot;]</td><td>1915</td></tr><tr><td>[&quot;Non-Halal&quot;, &quot;Vegetarian&quot;, … &quot;Non-Kosher&quot;]</td><td>2618</td></tr><tr><td>[&quot;Vegetarian&quot;, &quot;Halal&quot;, &quot;Non-Kosher&quot;]</td><td>121</td></tr><tr><td>[&quot;Halal&quot;, &quot;Kosher&quot;]</td><td>159826</td></tr><tr><td>[&quot;Non-Halal&quot;, &quot;Vegan&quot;, … &quot;Vegetarian&quot;]</td><td>1896</td></tr></tbody></table></div>"
      ]
     },
     "execution_count": 28,
     "metadata": {},
     "output_type": "execute_result"
    }
   ],
   "execution_count": 28
  },
  {
   "metadata": {},
   "cell_type": "code",
   "source": [
    "# Save the updated dataset\n",
    "df.write_csv(\"data/recipes_with_tags.csv\")\n",
    "\n",
    "print(\"Updated dataset saved as recipes_with_tags.csv\")\n",
    "\n"
   ],
   "id": "f5f9fbf82c640e1c",
   "outputs": [],
   "execution_count": null
  },
  {
   "metadata": {
    "ExecuteTime": {
     "end_time": "2025-03-06T21:49:02.154107Z",
     "start_time": "2025-03-06T21:48:52.630916Z"
    }
   },
   "cell_type": "code",
   "source": [
    "from itertools import chain\n",
    "\n",
    "# Get all unique meal course tags\n",
    "all_meal_courses = set(chain.from_iterable(df[\"meal_course\"]))\n",
    "\n",
    "# Get all unique dietary tags\n",
    "all_dietary_tags = set(chain.from_iterable(df[\"dietary_tags\"]))\n",
    "\n",
    "# Function to generate one-hot encoding columns\n",
    "def one_hot_encode_column(df, column_name, unique_tags):\n",
    "    for tag in unique_tags:\n",
    "        df = df.with_columns(\n",
    "            pl.col(column_name).list.contains(tag).cast(pl.Int8()).alias(f\"{column_name}_{tag}\")\n",
    "        )\n",
    "    return df\n",
    "\n",
    "# Apply one-hot encoding\n",
    "df = one_hot_encode_column(df, \"meal_course\", all_meal_courses)\n",
    "df = one_hot_encode_column(df, \"dietary_tags\", all_dietary_tags)\n",
    "\n",
    "# Drop the original list columns as they're no longer needed\n",
    "df = df.drop([\"meal_course\", \"dietary_tags\"])\n",
    "\n",
    "df.head()"
   ],
   "id": "9742ba5a398f7f87",
   "outputs": [
    {
     "data": {
      "text/plain": [
       "shape: (5, 24)\n",
       "┌─────┬────────────┬────────────┬────────────┬───┬────────────┬────────────┬───────────┬───────────┐\n",
       "│     ┆ name       ┆ ingredient ┆ instructio ┆ … ┆ dietary_ta ┆ dietary_ta ┆ dietary_t ┆ dietary_t │\n",
       "│ --- ┆ ---        ┆ s          ┆ ns         ┆   ┆ gs_Vegetar ┆ gs_Non-Hal ┆ ags_Koshe ┆ ags_Vegan │\n",
       "│ i64 ┆ str        ┆ ---        ┆ ---        ┆   ┆ ian        ┆ al         ┆ r         ┆ ---       │\n",
       "│     ┆            ┆ list[str]  ┆ list[str]  ┆   ┆ ---        ┆ ---        ┆ ---       ┆ i8        │\n",
       "│     ┆            ┆            ┆            ┆   ┆ i8         ┆ i8         ┆ i8        ┆           │\n",
       "╞═════╪════════════╪════════════╪════════════╪═══╪════════════╪════════════╪═══════════╪═══════════╡\n",
       "│ 0   ┆ No-Bake    ┆ [\"1 c.     ┆ [\"In a     ┆ … ┆ 1          ┆ 0          ┆ 1         ┆ 0         │\n",
       "│     ┆ Nut        ┆ firmly     ┆ heavy      ┆   ┆            ┆            ┆           ┆           │\n",
       "│     ┆ Cookies    ┆ packed     ┆ 2-quart    ┆   ┆            ┆            ┆           ┆           │\n",
       "│     ┆            ┆ brown sug… ┆ saucepan,… ┆   ┆            ┆            ┆           ┆           │\n",
       "│ 1   ┆ Jewell     ┆ [\"1 small  ┆ [\"Place    ┆ … ┆ 0          ┆ 0          ┆ 1         ┆ 0         │\n",
       "│     ┆ Ball'S     ┆ jar        ┆ chipped    ┆   ┆            ┆            ┆           ┆           │\n",
       "│     ┆ Chicken    ┆ chipped    ┆ beef on    ┆   ┆            ┆            ┆           ┆           │\n",
       "│     ┆            ┆ beef, cu…  ┆ bottom…    ┆   ┆            ┆            ┆           ┆           │\n",
       "│ 2   ┆ Creamy     ┆ [\"2 (16    ┆ [\"In a     ┆ … ┆ 1          ┆ 0          ┆ 1         ┆ 0         │\n",
       "│     ┆ Corn       ┆ oz.) pkg.  ┆ slow       ┆   ┆            ┆            ┆           ┆           │\n",
       "│     ┆            ┆ frozen     ┆ cooker,    ┆   ┆            ┆            ┆           ┆           │\n",
       "│     ┆            ┆ corn\"…     ┆ combine    ┆   ┆            ┆            ┆           ┆           │\n",
       "│     ┆            ┆            ┆ al…        ┆   ┆            ┆            ┆           ┆           │\n",
       "│ 3   ┆ Chicken    ┆ [\"1 large  ┆ [\"Boil and ┆ … ┆ 0          ┆ 0          ┆ 1         ┆ 0         │\n",
       "│     ┆ Funny      ┆ whole      ┆ debone     ┆   ┆            ┆            ┆           ┆           │\n",
       "│     ┆            ┆ chicken\",  ┆ chicken.\", ┆   ┆            ┆            ┆           ┆           │\n",
       "│     ┆            ┆ \"2 (…      ┆ \"…         ┆   ┆            ┆            ┆           ┆           │\n",
       "│ 4   ┆ Reeses Cup ┆ [\"1 c.     ┆ [\"Combine  ┆ … ┆ 1          ┆ 0          ┆ 1         ┆ 0         │\n",
       "│     ┆ s(Candy)   ┆ peanut     ┆ first four ┆   ┆            ┆            ┆           ┆           │\n",
       "│     ┆            ┆ butter\",   ┆ ingredien… ┆   ┆            ┆            ┆           ┆           │\n",
       "│     ┆            ┆ \"3/4 c.…   ┆            ┆   ┆            ┆            ┆           ┆           │\n",
       "└─────┴────────────┴────────────┴────────────┴───┴────────────┴────────────┴───────────┴───────────┘"
      ],
      "text/html": [
       "<div><style>\n",
       ".dataframe > thead > tr,\n",
       ".dataframe > tbody > tr {\n",
       "  text-align: right;\n",
       "  white-space: pre-wrap;\n",
       "}\n",
       "</style>\n",
       "<small>shape: (5, 24)</small><table border=\"1\" class=\"dataframe\"><thead><tr><th></th><th>name</th><th>ingredients</th><th>instructions</th><th>link</th><th>source</th><th>NER</th><th>meal_course_snack</th><th>meal_course_pizza</th><th>meal_course_dessert</th><th>meal_course_side</th><th>meal_course_dinner</th><th>meal_course_breakfast</th><th>meal_course_appetizer</th><th>meal_course_lunch</th><th>meal_course_sandwich/burger</th><th>meal_course_main</th><th>meal_course_miscellaneous</th><th>dietary_tags_Non-Kosher</th><th>dietary_tags_Halal</th><th>dietary_tags_Vegetarian</th><th>dietary_tags_Non-Halal</th><th>dietary_tags_Kosher</th><th>dietary_tags_Vegan</th></tr><tr><td>i64</td><td>str</td><td>list[str]</td><td>list[str]</td><td>str</td><td>str</td><td>list[str]</td><td>i8</td><td>i8</td><td>i8</td><td>i8</td><td>i8</td><td>i8</td><td>i8</td><td>i8</td><td>i8</td><td>i8</td><td>i8</td><td>i8</td><td>i8</td><td>i8</td><td>i8</td><td>i8</td><td>i8</td></tr></thead><tbody><tr><td>0</td><td>&quot;No-Bake Nut Cookies&quot;</td><td>[&quot;1 c. firmly packed brown sugar&quot;, &quot;1/2 c. evaporated milk&quot;, … &quot;3 1/2 c. bite size shredded rice biscuits&quot;]</td><td>[&quot;In a heavy 2-quart saucepan, mix brown sugar, nuts, evaporated milk and butter or margarine.&quot;, &quot;Stir over medium heat until mixture bubbles all over top.&quot;, … &quot;Let stand until firm, about 30 minutes.&quot;]</td><td>&quot;www.cookbooks.com/Recipe-Detai…</td><td>&quot;Gathered&quot;</td><td>[&quot;brown sugar&quot;, &quot;milk&quot;, … &quot;bite size shredded rice biscuits&quot;]</td><td>1</td><td>0</td><td>1</td><td>0</td><td>0</td><td>0</td><td>0</td><td>0</td><td>0</td><td>0</td><td>0</td><td>0</td><td>1</td><td>1</td><td>0</td><td>1</td><td>0</td></tr><tr><td>1</td><td>&quot;Jewell Ball&#x27;S Chicken&quot;</td><td>[&quot;1 small jar chipped beef, cut up&quot;, &quot;4 boned chicken breasts&quot;, … &quot;1 carton sour cream&quot;]</td><td>[&quot;Place chipped beef on bottom of baking dish.&quot;, &quot;Place chicken on top of beef.&quot;, &quot;Mix soup and cream together; pour over chicken. Bake, uncovered, at 275° for 3 hours.&quot;]</td><td>&quot;www.cookbooks.com/Recipe-Detai…</td><td>&quot;Gathered&quot;</td><td>[&quot;beef&quot;, &quot;chicken breasts&quot;, … &quot;sour cream&quot;]</td><td>0</td><td>0</td><td>0</td><td>0</td><td>1</td><td>0</td><td>0</td><td>1</td><td>0</td><td>0</td><td>0</td><td>0</td><td>1</td><td>0</td><td>0</td><td>1</td><td>0</td></tr><tr><td>2</td><td>&quot;Creamy Corn&quot;</td><td>[&quot;2 (16 oz.) pkg. frozen corn&quot;, &quot;1 (8 oz.) pkg. cream cheese, cubed&quot;, … &quot;1/4 tsp. pepper&quot;]</td><td>[&quot;In a slow cooker, combine all ingredients. Cover and cook on low for 4 hours or until heated through and cheese is melted. Stir well before serving. Yields 6 servings.&quot;]</td><td>&quot;www.cookbooks.com/Recipe-Detai…</td><td>&quot;Gathered&quot;</td><td>[&quot;frozen corn&quot;, &quot;cream cheese&quot;, … &quot;pepper&quot;]</td><td>0</td><td>0</td><td>0</td><td>0</td><td>0</td><td>0</td><td>0</td><td>0</td><td>0</td><td>0</td><td>1</td><td>0</td><td>1</td><td>1</td><td>0</td><td>1</td><td>0</td></tr><tr><td>3</td><td>&quot;Chicken Funny&quot;</td><td>[&quot;1 large whole chicken&quot;, &quot;2 (10 1/2 oz.) cans chicken gravy&quot;, … &quot;4 oz. shredded cheese&quot;]</td><td>[&quot;Boil and debone chicken.&quot;, &quot;Put bite size pieces in average size square casserole dish.&quot;, … &quot;Sprinkle shredded cheese on top and bake at 350° for approximately 20 minutes or until golden and bubbly.&quot;]</td><td>&quot;www.cookbooks.com/Recipe-Detai…</td><td>&quot;Gathered&quot;</td><td>[&quot;chicken&quot;, &quot;chicken gravy&quot;, … &quot;shredded cheese&quot;]</td><td>0</td><td>0</td><td>0</td><td>0</td><td>1</td><td>0</td><td>0</td><td>1</td><td>0</td><td>0</td><td>0</td><td>0</td><td>1</td><td>0</td><td>0</td><td>1</td><td>0</td></tr><tr><td>4</td><td>&quot;Reeses Cups(Candy)&nbsp;&nbsp;&quot;</td><td>[&quot;1 c. peanut butter&quot;, &quot;3/4 c. graham cracker crumbs&quot;, … &quot;1 large pkg. chocolate chips&quot;]</td><td>[&quot;Combine first four ingredients and press in 13 x 9-inch ungreased pan.&quot;, &quot;Melt chocolate chips and spread over mixture. Refrigerate for about 20 minutes and cut into pieces before chocolate gets hard.&quot;, &quot;Keep in refrigerator.&quot;]</td><td>&quot;www.cookbooks.com/Recipe-Detai…</td><td>&quot;Gathered&quot;</td><td>[&quot;peanut butter&quot;, &quot;graham cracker crumbs&quot;, … &quot;chocolate chips&quot;]</td><td>1</td><td>0</td><td>1</td><td>0</td><td>0</td><td>0</td><td>0</td><td>0</td><td>0</td><td>0</td><td>0</td><td>0</td><td>1</td><td>1</td><td>0</td><td>1</td><td>0</td></tr></tbody></table></div>"
      ]
     },
     "execution_count": 30,
     "metadata": {},
     "output_type": "execute_result"
    }
   ],
   "execution_count": 30
  },
  {
   "metadata": {
    "ExecuteTime": {
     "end_time": "2025-03-06T21:49:27.092957Z",
     "start_time": "2025-03-06T21:49:27.080887Z"
    }
   },
   "cell_type": "code",
   "source": "df.dtypes",
   "id": "8adb719163b1ad2",
   "outputs": [
    {
     "data": {
      "text/plain": [
       "[Int64,\n",
       " String,\n",
       " List(String),\n",
       " List(String),\n",
       " String,\n",
       " String,\n",
       " List(String),\n",
       " Int8,\n",
       " Int8,\n",
       " Int8,\n",
       " Int8,\n",
       " Int8,\n",
       " Int8,\n",
       " Int8,\n",
       " Int8,\n",
       " Int8,\n",
       " Int8,\n",
       " Int8,\n",
       " Int8,\n",
       " Int8,\n",
       " Int8,\n",
       " Int8,\n",
       " Int8,\n",
       " Int8]"
      ]
     },
     "execution_count": 31,
     "metadata": {},
     "output_type": "execute_result"
    }
   ],
   "execution_count": 31
  },
  {
   "metadata": {
    "ExecuteTime": {
     "end_time": "2025-03-06T21:50:49.094479Z",
     "start_time": "2025-03-06T21:50:10.422635Z"
    }
   },
   "cell_type": "code",
   "source": [
    "stringified_df = df.with_columns(\n",
    "    pl.col(\"ingredients\").map_elements(lambda x: \"|\".join(x)).alias(\"ingredients\"),\n",
    "    pl.col(\"instructions\").map_elements(lambda x: \"|\".join(x)).alias(\"instructions\"),\n",
    "    pl.col(\"NER\").map_elements(lambda x: \"|\".join(x)).alias(\"NER\"),\n",
    "    # pl.col(\"meal_course\").map_elements(lambda x: \"\\n\".join(x)).alias(\"meal_course\"),\n",
    "    # pl.col(\"dietary_tags\").map_elements(lambda x: \"\\n\".join(x)).alias(\"dietary_tags\")\n",
    ")\n",
    "stringified_df.head()"
   ],
   "id": "6cbc1590801cdfd6",
   "outputs": [
    {
     "name": "stderr",
     "output_type": "stream",
     "text": [
      "sys:1: MapWithoutReturnDtypeWarning: Calling `map_elements` without specifying `return_dtype` can lead to unpredictable results. Specify `return_dtype` to silence this warning.\n",
      "sys:1: MapWithoutReturnDtypeWarning: Calling `map_elements` without specifying `return_dtype` can lead to unpredictable results. Specify `return_dtype` to silence this warning.\n",
      "sys:1: MapWithoutReturnDtypeWarning: Calling `map_elements` without specifying `return_dtype` can lead to unpredictable results. Specify `return_dtype` to silence this warning.\n",
      "sys:1: MapWithoutReturnDtypeWarning: Calling `map_elements` without specifying `return_dtype` can lead to unpredictable results. Specify `return_dtype` to silence this warning.\n",
      "sys:1: MapWithoutReturnDtypeWarning: Calling `map_elements` without specifying `return_dtype` can lead to unpredictable results. Specify `return_dtype` to silence this warning.\n",
      "sys:1: MapWithoutReturnDtypeWarning: Calling `map_elements` without specifying `return_dtype` can lead to unpredictable results. Specify `return_dtype` to silence this warning.\n",
      "sys:1: MapWithoutReturnDtypeWarning: Calling `map_elements` without specifying `return_dtype` can lead to unpredictable results. Specify `return_dtype` to silence this warning.\n",
      "sys:1: MapWithoutReturnDtypeWarning: Calling `map_elements` without specifying `return_dtype` can lead to unpredictable results. Specify `return_dtype` to silence this warning.\n",
      "sys:1: MapWithoutReturnDtypeWarning: Calling `map_elements` without specifying `return_dtype` can lead to unpredictable results. Specify `return_dtype` to silence this warning.\n",
      "sys:1: MapWithoutReturnDtypeWarning: Calling `map_elements` without specifying `return_dtype` can lead to unpredictable results. Specify `return_dtype` to silence this warning.\n",
      "sys:1: MapWithoutReturnDtypeWarning: Calling `map_elements` without specifying `return_dtype` can lead to unpredictable results. Specify `return_dtype` to silence this warning.\n",
      "sys:1: MapWithoutReturnDtypeWarning: Calling `map_elements` without specifying `return_dtype` can lead to unpredictable results. Specify `return_dtype` to silence this warning.\n",
      "sys:1: MapWithoutReturnDtypeWarning: Calling `map_elements` without specifying `return_dtype` can lead to unpredictable results. Specify `return_dtype` to silence this warning.\n",
      "sys:1: MapWithoutReturnDtypeWarning: Calling `map_elements` without specifying `return_dtype` can lead to unpredictable results. Specify `return_dtype` to silence this warning.\n",
      "sys:1: MapWithoutReturnDtypeWarning: Calling `map_elements` without specifying `return_dtype` can lead to unpredictable results. Specify `return_dtype` to silence this warning.\n",
      "sys:1: MapWithoutReturnDtypeWarning: Calling `map_elements` without specifying `return_dtype` can lead to unpredictable results. Specify `return_dtype` to silence this warning.\n",
      "sys:1: MapWithoutReturnDtypeWarning: Calling `map_elements` without specifying `return_dtype` can lead to unpredictable results. Specify `return_dtype` to silence this warning.\n",
      "sys:1: MapWithoutReturnDtypeWarning: Calling `map_elements` without specifying `return_dtype` can lead to unpredictable results. Specify `return_dtype` to silence this warning.\n",
      "sys:1: MapWithoutReturnDtypeWarning: Calling `map_elements` without specifying `return_dtype` can lead to unpredictable results. Specify `return_dtype` to silence this warning.\n",
      "sys:1: MapWithoutReturnDtypeWarning: Calling `map_elements` without specifying `return_dtype` can lead to unpredictable results. Specify `return_dtype` to silence this warning.\n",
      "sys:1: MapWithoutReturnDtypeWarning: Calling `map_elements` without specifying `return_dtype` can lead to unpredictable results. Specify `return_dtype` to silence this warning.\n",
      "sys:1: MapWithoutReturnDtypeWarning: Calling `map_elements` without specifying `return_dtype` can lead to unpredictable results. Specify `return_dtype` to silence this warning.\n",
      "sys:1: MapWithoutReturnDtypeWarning: Calling `map_elements` without specifying `return_dtype` can lead to unpredictable results. Specify `return_dtype` to silence this warning.\n",
      "sys:1: MapWithoutReturnDtypeWarning: Calling `map_elements` without specifying `return_dtype` can lead to unpredictable results. Specify `return_dtype` to silence this warning.\n",
      "sys:1: MapWithoutReturnDtypeWarning: Calling `map_elements` without specifying `return_dtype` can lead to unpredictable results. Specify `return_dtype` to silence this warning.\n",
      "sys:1: MapWithoutReturnDtypeWarning: Calling `map_elements` without specifying `return_dtype` can lead to unpredictable results. Specify `return_dtype` to silence this warning.\n",
      "sys:1: MapWithoutReturnDtypeWarning: Calling `map_elements` without specifying `return_dtype` can lead to unpredictable results. Specify `return_dtype` to silence this warning.\n",
      "sys:1: MapWithoutReturnDtypeWarning: Calling `map_elements` without specifying `return_dtype` can lead to unpredictable results. Specify `return_dtype` to silence this warning.\n",
      "sys:1: MapWithoutReturnDtypeWarning: Calling `map_elements` without specifying `return_dtype` can lead to unpredictable results. Specify `return_dtype` to silence this warning.\n",
      "sys:1: MapWithoutReturnDtypeWarning: Calling `map_elements` without specifying `return_dtype` can lead to unpredictable results. Specify `return_dtype` to silence this warning.\n",
      "sys:1: MapWithoutReturnDtypeWarning: Calling `map_elements` without specifying `return_dtype` can lead to unpredictable results. Specify `return_dtype` to silence this warning.\n",
      "sys:1: MapWithoutReturnDtypeWarning: Calling `map_elements` without specifying `return_dtype` can lead to unpredictable results. Specify `return_dtype` to silence this warning.\n",
      "sys:1: MapWithoutReturnDtypeWarning: Calling `map_elements` without specifying `return_dtype` can lead to unpredictable results. Specify `return_dtype` to silence this warning.\n",
      "sys:1: MapWithoutReturnDtypeWarning: Calling `map_elements` without specifying `return_dtype` can lead to unpredictable results. Specify `return_dtype` to silence this warning.\n",
      "sys:1: MapWithoutReturnDtypeWarning: Calling `map_elements` without specifying `return_dtype` can lead to unpredictable results. Specify `return_dtype` to silence this warning.\n",
      "sys:1: MapWithoutReturnDtypeWarning: Calling `map_elements` without specifying `return_dtype` can lead to unpredictable results. Specify `return_dtype` to silence this warning.\n",
      "sys:1: MapWithoutReturnDtypeWarning: Calling `map_elements` without specifying `return_dtype` can lead to unpredictable results. Specify `return_dtype` to silence this warning.\n",
      "sys:1: MapWithoutReturnDtypeWarning: Calling `map_elements` without specifying `return_dtype` can lead to unpredictable results. Specify `return_dtype` to silence this warning.\n",
      "sys:1: MapWithoutReturnDtypeWarning: Calling `map_elements` without specifying `return_dtype` can lead to unpredictable results. Specify `return_dtype` to silence this warning.\n",
      "sys:1: MapWithoutReturnDtypeWarning: Calling `map_elements` without specifying `return_dtype` can lead to unpredictable results. Specify `return_dtype` to silence this warning.\n",
      "sys:1: MapWithoutReturnDtypeWarning: Calling `map_elements` without specifying `return_dtype` can lead to unpredictable results. Specify `return_dtype` to silence this warning.\n",
      "sys:1: MapWithoutReturnDtypeWarning: Calling `map_elements` without specifying `return_dtype` can lead to unpredictable results. Specify `return_dtype` to silence this warning.\n",
      "sys:1: MapWithoutReturnDtypeWarning: Calling `map_elements` without specifying `return_dtype` can lead to unpredictable results. Specify `return_dtype` to silence this warning.\n",
      "sys:1: MapWithoutReturnDtypeWarning: Calling `map_elements` without specifying `return_dtype` can lead to unpredictable results. Specify `return_dtype` to silence this warning.\n",
      "sys:1: MapWithoutReturnDtypeWarning: Calling `map_elements` without specifying `return_dtype` can lead to unpredictable results. Specify `return_dtype` to silence this warning.\n",
      "sys:1: MapWithoutReturnDtypeWarning: Calling `map_elements` without specifying `return_dtype` can lead to unpredictable results. Specify `return_dtype` to silence this warning.\n",
      "sys:1: MapWithoutReturnDtypeWarning: Calling `map_elements` without specifying `return_dtype` can lead to unpredictable results. Specify `return_dtype` to silence this warning.\n",
      "sys:1: MapWithoutReturnDtypeWarning: Calling `map_elements` without specifying `return_dtype` can lead to unpredictable results. Specify `return_dtype` to silence this warning.\n",
      "sys:1: MapWithoutReturnDtypeWarning: Calling `map_elements` without specifying `return_dtype` can lead to unpredictable results. Specify `return_dtype` to silence this warning.\n",
      "sys:1: MapWithoutReturnDtypeWarning: Calling `map_elements` without specifying `return_dtype` can lead to unpredictable results. Specify `return_dtype` to silence this warning.\n",
      "sys:1: MapWithoutReturnDtypeWarning: Calling `map_elements` without specifying `return_dtype` can lead to unpredictable results. Specify `return_dtype` to silence this warning.\n",
      "sys:1: MapWithoutReturnDtypeWarning: Calling `map_elements` without specifying `return_dtype` can lead to unpredictable results. Specify `return_dtype` to silence this warning.\n",
      "sys:1: MapWithoutReturnDtypeWarning: Calling `map_elements` without specifying `return_dtype` can lead to unpredictable results. Specify `return_dtype` to silence this warning.\n",
      "sys:1: MapWithoutReturnDtypeWarning: Calling `map_elements` without specifying `return_dtype` can lead to unpredictable results. Specify `return_dtype` to silence this warning.\n",
      "sys:1: MapWithoutReturnDtypeWarning: Calling `map_elements` without specifying `return_dtype` can lead to unpredictable results. Specify `return_dtype` to silence this warning.\n",
      "sys:1: MapWithoutReturnDtypeWarning: Calling `map_elements` without specifying `return_dtype` can lead to unpredictable results. Specify `return_dtype` to silence this warning.\n",
      "sys:1: MapWithoutReturnDtypeWarning: Calling `map_elements` without specifying `return_dtype` can lead to unpredictable results. Specify `return_dtype` to silence this warning.\n",
      "sys:1: MapWithoutReturnDtypeWarning: Calling `map_elements` without specifying `return_dtype` can lead to unpredictable results. Specify `return_dtype` to silence this warning.\n",
      "sys:1: MapWithoutReturnDtypeWarning: Calling `map_elements` without specifying `return_dtype` can lead to unpredictable results. Specify `return_dtype` to silence this warning.\n",
      "sys:1: MapWithoutReturnDtypeWarning: Calling `map_elements` without specifying `return_dtype` can lead to unpredictable results. Specify `return_dtype` to silence this warning.\n",
      "sys:1: MapWithoutReturnDtypeWarning: Calling `map_elements` without specifying `return_dtype` can lead to unpredictable results. Specify `return_dtype` to silence this warning.\n",
      "sys:1: MapWithoutReturnDtypeWarning: Calling `map_elements` without specifying `return_dtype` can lead to unpredictable results. Specify `return_dtype` to silence this warning.\n",
      "sys:1: MapWithoutReturnDtypeWarning: Calling `map_elements` without specifying `return_dtype` can lead to unpredictable results. Specify `return_dtype` to silence this warning.\n",
      "sys:1: MapWithoutReturnDtypeWarning: Calling `map_elements` without specifying `return_dtype` can lead to unpredictable results. Specify `return_dtype` to silence this warning.\n",
      "sys:1: MapWithoutReturnDtypeWarning: Calling `map_elements` without specifying `return_dtype` can lead to unpredictable results. Specify `return_dtype` to silence this warning.\n",
      "sys:1: MapWithoutReturnDtypeWarning: Calling `map_elements` without specifying `return_dtype` can lead to unpredictable results. Specify `return_dtype` to silence this warning.\n",
      "sys:1: MapWithoutReturnDtypeWarning: Calling `map_elements` without specifying `return_dtype` can lead to unpredictable results. Specify `return_dtype` to silence this warning.\n",
      "sys:1: MapWithoutReturnDtypeWarning: Calling `map_elements` without specifying `return_dtype` can lead to unpredictable results. Specify `return_dtype` to silence this warning.\n",
      "sys:1: MapWithoutReturnDtypeWarning: Calling `map_elements` without specifying `return_dtype` can lead to unpredictable results. Specify `return_dtype` to silence this warning.\n",
      "sys:1: MapWithoutReturnDtypeWarning: Calling `map_elements` without specifying `return_dtype` can lead to unpredictable results. Specify `return_dtype` to silence this warning.\n",
      "sys:1: MapWithoutReturnDtypeWarning: Calling `map_elements` without specifying `return_dtype` can lead to unpredictable results. Specify `return_dtype` to silence this warning.\n",
      "sys:1: MapWithoutReturnDtypeWarning: Calling `map_elements` without specifying `return_dtype` can lead to unpredictable results. Specify `return_dtype` to silence this warning.\n",
      "sys:1: MapWithoutReturnDtypeWarning: Calling `map_elements` without specifying `return_dtype` can lead to unpredictable results. Specify `return_dtype` to silence this warning.\n",
      "sys:1: MapWithoutReturnDtypeWarning: Calling `map_elements` without specifying `return_dtype` can lead to unpredictable results. Specify `return_dtype` to silence this warning.\n",
      "sys:1: MapWithoutReturnDtypeWarning: Calling `map_elements` without specifying `return_dtype` can lead to unpredictable results. Specify `return_dtype` to silence this warning.\n",
      "sys:1: MapWithoutReturnDtypeWarning: Calling `map_elements` without specifying `return_dtype` can lead to unpredictable results. Specify `return_dtype` to silence this warning.\n",
      "sys:1: MapWithoutReturnDtypeWarning: Calling `map_elements` without specifying `return_dtype` can lead to unpredictable results. Specify `return_dtype` to silence this warning.\n",
      "sys:1: MapWithoutReturnDtypeWarning: Calling `map_elements` without specifying `return_dtype` can lead to unpredictable results. Specify `return_dtype` to silence this warning.\n",
      "sys:1: MapWithoutReturnDtypeWarning: Calling `map_elements` without specifying `return_dtype` can lead to unpredictable results. Specify `return_dtype` to silence this warning.\n",
      "sys:1: MapWithoutReturnDtypeWarning: Calling `map_elements` without specifying `return_dtype` can lead to unpredictable results. Specify `return_dtype` to silence this warning.\n",
      "sys:1: MapWithoutReturnDtypeWarning: Calling `map_elements` without specifying `return_dtype` can lead to unpredictable results. Specify `return_dtype` to silence this warning.\n",
      "sys:1: MapWithoutReturnDtypeWarning: Calling `map_elements` without specifying `return_dtype` can lead to unpredictable results. Specify `return_dtype` to silence this warning.\n",
      "sys:1: MapWithoutReturnDtypeWarning: Calling `map_elements` without specifying `return_dtype` can lead to unpredictable results. Specify `return_dtype` to silence this warning.\n",
      "sys:1: MapWithoutReturnDtypeWarning: Calling `map_elements` without specifying `return_dtype` can lead to unpredictable results. Specify `return_dtype` to silence this warning.\n",
      "sys:1: MapWithoutReturnDtypeWarning: Calling `map_elements` without specifying `return_dtype` can lead to unpredictable results. Specify `return_dtype` to silence this warning.\n",
      "sys:1: MapWithoutReturnDtypeWarning: Calling `map_elements` without specifying `return_dtype` can lead to unpredictable results. Specify `return_dtype` to silence this warning.\n",
      "sys:1: MapWithoutReturnDtypeWarning: Calling `map_elements` without specifying `return_dtype` can lead to unpredictable results. Specify `return_dtype` to silence this warning.\n",
      "sys:1: MapWithoutReturnDtypeWarning: Calling `map_elements` without specifying `return_dtype` can lead to unpredictable results. Specify `return_dtype` to silence this warning.\n",
      "sys:1: MapWithoutReturnDtypeWarning: Calling `map_elements` without specifying `return_dtype` can lead to unpredictable results. Specify `return_dtype` to silence this warning.\n",
      "sys:1: MapWithoutReturnDtypeWarning: Calling `map_elements` without specifying `return_dtype` can lead to unpredictable results. Specify `return_dtype` to silence this warning.\n",
      "sys:1: MapWithoutReturnDtypeWarning: Calling `map_elements` without specifying `return_dtype` can lead to unpredictable results. Specify `return_dtype` to silence this warning.\n",
      "sys:1: MapWithoutReturnDtypeWarning: Calling `map_elements` without specifying `return_dtype` can lead to unpredictable results. Specify `return_dtype` to silence this warning.\n",
      "sys:1: MapWithoutReturnDtypeWarning: Calling `map_elements` without specifying `return_dtype` can lead to unpredictable results. Specify `return_dtype` to silence this warning.\n",
      "sys:1: MapWithoutReturnDtypeWarning: Calling `map_elements` without specifying `return_dtype` can lead to unpredictable results. Specify `return_dtype` to silence this warning.\n",
      "sys:1: MapWithoutReturnDtypeWarning: Calling `map_elements` without specifying `return_dtype` can lead to unpredictable results. Specify `return_dtype` to silence this warning.\n",
      "sys:1: MapWithoutReturnDtypeWarning: Calling `map_elements` without specifying `return_dtype` can lead to unpredictable results. Specify `return_dtype` to silence this warning.\n",
      "sys:1: MapWithoutReturnDtypeWarning: Calling `map_elements` without specifying `return_dtype` can lead to unpredictable results. Specify `return_dtype` to silence this warning.\n",
      "sys:1: MapWithoutReturnDtypeWarning: Calling `map_elements` without specifying `return_dtype` can lead to unpredictable results. Specify `return_dtype` to silence this warning.\n",
      "sys:1: MapWithoutReturnDtypeWarning: Calling `map_elements` without specifying `return_dtype` can lead to unpredictable results. Specify `return_dtype` to silence this warning.\n",
      "sys:1: MapWithoutReturnDtypeWarning: Calling `map_elements` without specifying `return_dtype` can lead to unpredictable results. Specify `return_dtype` to silence this warning.\n",
      "sys:1: MapWithoutReturnDtypeWarning: Calling `map_elements` without specifying `return_dtype` can lead to unpredictable results. Specify `return_dtype` to silence this warning.\n",
      "sys:1: MapWithoutReturnDtypeWarning: Calling `map_elements` without specifying `return_dtype` can lead to unpredictable results. Specify `return_dtype` to silence this warning.\n",
      "sys:1: MapWithoutReturnDtypeWarning: Calling `map_elements` without specifying `return_dtype` can lead to unpredictable results. Specify `return_dtype` to silence this warning.\n",
      "sys:1: MapWithoutReturnDtypeWarning: Calling `map_elements` without specifying `return_dtype` can lead to unpredictable results. Specify `return_dtype` to silence this warning.\n",
      "sys:1: MapWithoutReturnDtypeWarning: Calling `map_elements` without specifying `return_dtype` can lead to unpredictable results. Specify `return_dtype` to silence this warning.\n",
      "sys:1: MapWithoutReturnDtypeWarning: Calling `map_elements` without specifying `return_dtype` can lead to unpredictable results. Specify `return_dtype` to silence this warning.\n",
      "sys:1: MapWithoutReturnDtypeWarning: Calling `map_elements` without specifying `return_dtype` can lead to unpredictable results. Specify `return_dtype` to silence this warning.\n",
      "sys:1: MapWithoutReturnDtypeWarning: Calling `map_elements` without specifying `return_dtype` can lead to unpredictable results. Specify `return_dtype` to silence this warning.\n",
      "sys:1: MapWithoutReturnDtypeWarning: Calling `map_elements` without specifying `return_dtype` can lead to unpredictable results. Specify `return_dtype` to silence this warning.\n",
      "sys:1: MapWithoutReturnDtypeWarning: Calling `map_elements` without specifying `return_dtype` can lead to unpredictable results. Specify `return_dtype` to silence this warning.\n",
      "sys:1: MapWithoutReturnDtypeWarning: Calling `map_elements` without specifying `return_dtype` can lead to unpredictable results. Specify `return_dtype` to silence this warning.\n",
      "sys:1: MapWithoutReturnDtypeWarning: Calling `map_elements` without specifying `return_dtype` can lead to unpredictable results. Specify `return_dtype` to silence this warning.\n",
      "sys:1: MapWithoutReturnDtypeWarning: Calling `map_elements` without specifying `return_dtype` can lead to unpredictable results. Specify `return_dtype` to silence this warning.\n",
      "sys:1: MapWithoutReturnDtypeWarning: Calling `map_elements` without specifying `return_dtype` can lead to unpredictable results. Specify `return_dtype` to silence this warning.\n",
      "sys:1: MapWithoutReturnDtypeWarning: Calling `map_elements` without specifying `return_dtype` can lead to unpredictable results. Specify `return_dtype` to silence this warning.\n",
      "sys:1: MapWithoutReturnDtypeWarning: Calling `map_elements` without specifying `return_dtype` can lead to unpredictable results. Specify `return_dtype` to silence this warning.\n",
      "sys:1: MapWithoutReturnDtypeWarning: Calling `map_elements` without specifying `return_dtype` can lead to unpredictable results. Specify `return_dtype` to silence this warning.\n",
      "sys:1: MapWithoutReturnDtypeWarning: Calling `map_elements` without specifying `return_dtype` can lead to unpredictable results. Specify `return_dtype` to silence this warning.\n",
      "sys:1: MapWithoutReturnDtypeWarning: Calling `map_elements` without specifying `return_dtype` can lead to unpredictable results. Specify `return_dtype` to silence this warning.\n",
      "sys:1: MapWithoutReturnDtypeWarning: Calling `map_elements` without specifying `return_dtype` can lead to unpredictable results. Specify `return_dtype` to silence this warning.\n",
      "sys:1: MapWithoutReturnDtypeWarning: Calling `map_elements` without specifying `return_dtype` can lead to unpredictable results. Specify `return_dtype` to silence this warning.\n",
      "sys:1: MapWithoutReturnDtypeWarning: Calling `map_elements` without specifying `return_dtype` can lead to unpredictable results. Specify `return_dtype` to silence this warning.\n",
      "sys:1: MapWithoutReturnDtypeWarning: Calling `map_elements` without specifying `return_dtype` can lead to unpredictable results. Specify `return_dtype` to silence this warning.\n",
      "sys:1: MapWithoutReturnDtypeWarning: Calling `map_elements` without specifying `return_dtype` can lead to unpredictable results. Specify `return_dtype` to silence this warning.\n",
      "sys:1: MapWithoutReturnDtypeWarning: Calling `map_elements` without specifying `return_dtype` can lead to unpredictable results. Specify `return_dtype` to silence this warning.\n",
      "sys:1: MapWithoutReturnDtypeWarning: Calling `map_elements` without specifying `return_dtype` can lead to unpredictable results. Specify `return_dtype` to silence this warning.\n",
      "sys:1: MapWithoutReturnDtypeWarning: Calling `map_elements` without specifying `return_dtype` can lead to unpredictable results. Specify `return_dtype` to silence this warning.\n",
      "sys:1: MapWithoutReturnDtypeWarning: Calling `map_elements` without specifying `return_dtype` can lead to unpredictable results. Specify `return_dtype` to silence this warning.\n",
      "sys:1: MapWithoutReturnDtypeWarning: Calling `map_elements` without specifying `return_dtype` can lead to unpredictable results. Specify `return_dtype` to silence this warning.\n",
      "sys:1: MapWithoutReturnDtypeWarning: Calling `map_elements` without specifying `return_dtype` can lead to unpredictable results. Specify `return_dtype` to silence this warning.\n",
      "sys:1: MapWithoutReturnDtypeWarning: Calling `map_elements` without specifying `return_dtype` can lead to unpredictable results. Specify `return_dtype` to silence this warning.\n",
      "sys:1: MapWithoutReturnDtypeWarning: Calling `map_elements` without specifying `return_dtype` can lead to unpredictable results. Specify `return_dtype` to silence this warning.\n",
      "sys:1: MapWithoutReturnDtypeWarning: Calling `map_elements` without specifying `return_dtype` can lead to unpredictable results. Specify `return_dtype` to silence this warning.\n",
      "sys:1: MapWithoutReturnDtypeWarning: Calling `map_elements` without specifying `return_dtype` can lead to unpredictable results. Specify `return_dtype` to silence this warning.\n",
      "sys:1: MapWithoutReturnDtypeWarning: Calling `map_elements` without specifying `return_dtype` can lead to unpredictable results. Specify `return_dtype` to silence this warning.\n",
      "sys:1: MapWithoutReturnDtypeWarning: Calling `map_elements` without specifying `return_dtype` can lead to unpredictable results. Specify `return_dtype` to silence this warning.\n",
      "sys:1: MapWithoutReturnDtypeWarning: Calling `map_elements` without specifying `return_dtype` can lead to unpredictable results. Specify `return_dtype` to silence this warning.\n",
      "sys:1: MapWithoutReturnDtypeWarning: Calling `map_elements` without specifying `return_dtype` can lead to unpredictable results. Specify `return_dtype` to silence this warning.\n",
      "sys:1: MapWithoutReturnDtypeWarning: Calling `map_elements` without specifying `return_dtype` can lead to unpredictable results. Specify `return_dtype` to silence this warning.\n",
      "sys:1: MapWithoutReturnDtypeWarning: Calling `map_elements` without specifying `return_dtype` can lead to unpredictable results. Specify `return_dtype` to silence this warning.\n",
      "sys:1: MapWithoutReturnDtypeWarning: Calling `map_elements` without specifying `return_dtype` can lead to unpredictable results. Specify `return_dtype` to silence this warning.\n",
      "sys:1: MapWithoutReturnDtypeWarning: Calling `map_elements` without specifying `return_dtype` can lead to unpredictable results. Specify `return_dtype` to silence this warning.\n",
      "sys:1: MapWithoutReturnDtypeWarning: Calling `map_elements` without specifying `return_dtype` can lead to unpredictable results. Specify `return_dtype` to silence this warning.\n",
      "sys:1: MapWithoutReturnDtypeWarning: Calling `map_elements` without specifying `return_dtype` can lead to unpredictable results. Specify `return_dtype` to silence this warning.\n",
      "sys:1: MapWithoutReturnDtypeWarning: Calling `map_elements` without specifying `return_dtype` can lead to unpredictable results. Specify `return_dtype` to silence this warning.\n",
      "sys:1: MapWithoutReturnDtypeWarning: Calling `map_elements` without specifying `return_dtype` can lead to unpredictable results. Specify `return_dtype` to silence this warning.\n",
      "sys:1: MapWithoutReturnDtypeWarning: Calling `map_elements` without specifying `return_dtype` can lead to unpredictable results. Specify `return_dtype` to silence this warning.\n",
      "sys:1: MapWithoutReturnDtypeWarning: Calling `map_elements` without specifying `return_dtype` can lead to unpredictable results. Specify `return_dtype` to silence this warning.\n",
      "sys:1: MapWithoutReturnDtypeWarning: Calling `map_elements` without specifying `return_dtype` can lead to unpredictable results. Specify `return_dtype` to silence this warning.\n",
      "sys:1: MapWithoutReturnDtypeWarning: Calling `map_elements` without specifying `return_dtype` can lead to unpredictable results. Specify `return_dtype` to silence this warning.\n",
      "sys:1: MapWithoutReturnDtypeWarning: Calling `map_elements` without specifying `return_dtype` can lead to unpredictable results. Specify `return_dtype` to silence this warning.\n",
      "sys:1: MapWithoutReturnDtypeWarning: Calling `map_elements` without specifying `return_dtype` can lead to unpredictable results. Specify `return_dtype` to silence this warning.\n",
      "sys:1: MapWithoutReturnDtypeWarning: Calling `map_elements` without specifying `return_dtype` can lead to unpredictable results. Specify `return_dtype` to silence this warning.\n",
      "sys:1: MapWithoutReturnDtypeWarning: Calling `map_elements` without specifying `return_dtype` can lead to unpredictable results. Specify `return_dtype` to silence this warning.\n",
      "sys:1: MapWithoutReturnDtypeWarning: Calling `map_elements` without specifying `return_dtype` can lead to unpredictable results. Specify `return_dtype` to silence this warning.\n",
      "sys:1: MapWithoutReturnDtypeWarning: Calling `map_elements` without specifying `return_dtype` can lead to unpredictable results. Specify `return_dtype` to silence this warning.\n",
      "sys:1: MapWithoutReturnDtypeWarning: Calling `map_elements` without specifying `return_dtype` can lead to unpredictable results. Specify `return_dtype` to silence this warning.\n",
      "sys:1: MapWithoutReturnDtypeWarning: Calling `map_elements` without specifying `return_dtype` can lead to unpredictable results. Specify `return_dtype` to silence this warning.\n",
      "sys:1: MapWithoutReturnDtypeWarning: Calling `map_elements` without specifying `return_dtype` can lead to unpredictable results. Specify `return_dtype` to silence this warning.\n",
      "sys:1: MapWithoutReturnDtypeWarning: Calling `map_elements` without specifying `return_dtype` can lead to unpredictable results. Specify `return_dtype` to silence this warning.\n",
      "sys:1: MapWithoutReturnDtypeWarning: Calling `map_elements` without specifying `return_dtype` can lead to unpredictable results. Specify `return_dtype` to silence this warning.\n",
      "sys:1: MapWithoutReturnDtypeWarning: Calling `map_elements` without specifying `return_dtype` can lead to unpredictable results. Specify `return_dtype` to silence this warning.\n",
      "sys:1: MapWithoutReturnDtypeWarning: Calling `map_elements` without specifying `return_dtype` can lead to unpredictable results. Specify `return_dtype` to silence this warning.\n",
      "sys:1: MapWithoutReturnDtypeWarning: Calling `map_elements` without specifying `return_dtype` can lead to unpredictable results. Specify `return_dtype` to silence this warning.\n",
      "sys:1: MapWithoutReturnDtypeWarning: Calling `map_elements` without specifying `return_dtype` can lead to unpredictable results. Specify `return_dtype` to silence this warning.\n",
      "sys:1: MapWithoutReturnDtypeWarning: Calling `map_elements` without specifying `return_dtype` can lead to unpredictable results. Specify `return_dtype` to silence this warning.\n",
      "sys:1: MapWithoutReturnDtypeWarning: Calling `map_elements` without specifying `return_dtype` can lead to unpredictable results. Specify `return_dtype` to silence this warning.\n",
      "sys:1: MapWithoutReturnDtypeWarning: Calling `map_elements` without specifying `return_dtype` can lead to unpredictable results. Specify `return_dtype` to silence this warning.\n",
      "sys:1: MapWithoutReturnDtypeWarning: Calling `map_elements` without specifying `return_dtype` can lead to unpredictable results. Specify `return_dtype` to silence this warning.\n",
      "sys:1: MapWithoutReturnDtypeWarning: Calling `map_elements` without specifying `return_dtype` can lead to unpredictable results. Specify `return_dtype` to silence this warning.\n",
      "sys:1: MapWithoutReturnDtypeWarning: Calling `map_elements` without specifying `return_dtype` can lead to unpredictable results. Specify `return_dtype` to silence this warning.\n",
      "sys:1: MapWithoutReturnDtypeWarning: Calling `map_elements` without specifying `return_dtype` can lead to unpredictable results. Specify `return_dtype` to silence this warning.\n",
      "sys:1: MapWithoutReturnDtypeWarning: Calling `map_elements` without specifying `return_dtype` can lead to unpredictable results. Specify `return_dtype` to silence this warning.\n",
      "sys:1: MapWithoutReturnDtypeWarning: Calling `map_elements` without specifying `return_dtype` can lead to unpredictable results. Specify `return_dtype` to silence this warning.\n",
      "sys:1: MapWithoutReturnDtypeWarning: Calling `map_elements` without specifying `return_dtype` can lead to unpredictable results. Specify `return_dtype` to silence this warning.\n",
      "sys:1: MapWithoutReturnDtypeWarning: Calling `map_elements` without specifying `return_dtype` can lead to unpredictable results. Specify `return_dtype` to silence this warning.\n",
      "sys:1: MapWithoutReturnDtypeWarning: Calling `map_elements` without specifying `return_dtype` can lead to unpredictable results. Specify `return_dtype` to silence this warning.\n",
      "sys:1: MapWithoutReturnDtypeWarning: Calling `map_elements` without specifying `return_dtype` can lead to unpredictable results. Specify `return_dtype` to silence this warning.\n",
      "sys:1: MapWithoutReturnDtypeWarning: Calling `map_elements` without specifying `return_dtype` can lead to unpredictable results. Specify `return_dtype` to silence this warning.\n",
      "sys:1: MapWithoutReturnDtypeWarning: Calling `map_elements` without specifying `return_dtype` can lead to unpredictable results. Specify `return_dtype` to silence this warning.\n",
      "sys:1: MapWithoutReturnDtypeWarning: Calling `map_elements` without specifying `return_dtype` can lead to unpredictable results. Specify `return_dtype` to silence this warning.\n",
      "sys:1: MapWithoutReturnDtypeWarning: Calling `map_elements` without specifying `return_dtype` can lead to unpredictable results. Specify `return_dtype` to silence this warning.\n",
      "sys:1: MapWithoutReturnDtypeWarning: Calling `map_elements` without specifying `return_dtype` can lead to unpredictable results. Specify `return_dtype` to silence this warning.\n",
      "sys:1: MapWithoutReturnDtypeWarning: Calling `map_elements` without specifying `return_dtype` can lead to unpredictable results. Specify `return_dtype` to silence this warning.\n",
      "sys:1: MapWithoutReturnDtypeWarning: Calling `map_elements` without specifying `return_dtype` can lead to unpredictable results. Specify `return_dtype` to silence this warning.\n",
      "sys:1: MapWithoutReturnDtypeWarning: Calling `map_elements` without specifying `return_dtype` can lead to unpredictable results. Specify `return_dtype` to silence this warning.\n",
      "sys:1: MapWithoutReturnDtypeWarning: Calling `map_elements` without specifying `return_dtype` can lead to unpredictable results. Specify `return_dtype` to silence this warning.\n",
      "sys:1: MapWithoutReturnDtypeWarning: Calling `map_elements` without specifying `return_dtype` can lead to unpredictable results. Specify `return_dtype` to silence this warning.\n",
      "sys:1: MapWithoutReturnDtypeWarning: Calling `map_elements` without specifying `return_dtype` can lead to unpredictable results. Specify `return_dtype` to silence this warning.\n",
      "sys:1: MapWithoutReturnDtypeWarning: Calling `map_elements` without specifying `return_dtype` can lead to unpredictable results. Specify `return_dtype` to silence this warning.\n",
      "sys:1: MapWithoutReturnDtypeWarning: Calling `map_elements` without specifying `return_dtype` can lead to unpredictable results. Specify `return_dtype` to silence this warning.\n",
      "sys:1: MapWithoutReturnDtypeWarning: Calling `map_elements` without specifying `return_dtype` can lead to unpredictable results. Specify `return_dtype` to silence this warning.\n",
      "sys:1: MapWithoutReturnDtypeWarning: Calling `map_elements` without specifying `return_dtype` can lead to unpredictable results. Specify `return_dtype` to silence this warning.\n",
      "sys:1: MapWithoutReturnDtypeWarning: Calling `map_elements` without specifying `return_dtype` can lead to unpredictable results. Specify `return_dtype` to silence this warning.\n",
      "sys:1: MapWithoutReturnDtypeWarning: Calling `map_elements` without specifying `return_dtype` can lead to unpredictable results. Specify `return_dtype` to silence this warning.\n",
      "sys:1: MapWithoutReturnDtypeWarning: Calling `map_elements` without specifying `return_dtype` can lead to unpredictable results. Specify `return_dtype` to silence this warning.\n",
      "sys:1: MapWithoutReturnDtypeWarning: Calling `map_elements` without specifying `return_dtype` can lead to unpredictable results. Specify `return_dtype` to silence this warning.\n",
      "sys:1: MapWithoutReturnDtypeWarning: Calling `map_elements` without specifying `return_dtype` can lead to unpredictable results. Specify `return_dtype` to silence this warning.\n",
      "sys:1: MapWithoutReturnDtypeWarning: Calling `map_elements` without specifying `return_dtype` can lead to unpredictable results. Specify `return_dtype` to silence this warning.\n",
      "sys:1: MapWithoutReturnDtypeWarning: Calling `map_elements` without specifying `return_dtype` can lead to unpredictable results. Specify `return_dtype` to silence this warning.\n",
      "sys:1: MapWithoutReturnDtypeWarning: Calling `map_elements` without specifying `return_dtype` can lead to unpredictable results. Specify `return_dtype` to silence this warning.\n",
      "sys:1: MapWithoutReturnDtypeWarning: Calling `map_elements` without specifying `return_dtype` can lead to unpredictable results. Specify `return_dtype` to silence this warning.\n",
      "sys:1: MapWithoutReturnDtypeWarning: Calling `map_elements` without specifying `return_dtype` can lead to unpredictable results. Specify `return_dtype` to silence this warning.\n",
      "sys:1: MapWithoutReturnDtypeWarning: Calling `map_elements` without specifying `return_dtype` can lead to unpredictable results. Specify `return_dtype` to silence this warning.\n",
      "sys:1: MapWithoutReturnDtypeWarning: Calling `map_elements` without specifying `return_dtype` can lead to unpredictable results. Specify `return_dtype` to silence this warning.\n",
      "sys:1: MapWithoutReturnDtypeWarning: Calling `map_elements` without specifying `return_dtype` can lead to unpredictable results. Specify `return_dtype` to silence this warning.\n",
      "sys:1: MapWithoutReturnDtypeWarning: Calling `map_elements` without specifying `return_dtype` can lead to unpredictable results. Specify `return_dtype` to silence this warning.\n",
      "sys:1: MapWithoutReturnDtypeWarning: Calling `map_elements` without specifying `return_dtype` can lead to unpredictable results. Specify `return_dtype` to silence this warning.\n",
      "sys:1: MapWithoutReturnDtypeWarning: Calling `map_elements` without specifying `return_dtype` can lead to unpredictable results. Specify `return_dtype` to silence this warning.\n",
      "sys:1: MapWithoutReturnDtypeWarning: Calling `map_elements` without specifying `return_dtype` can lead to unpredictable results. Specify `return_dtype` to silence this warning.\n",
      "sys:1: MapWithoutReturnDtypeWarning: Calling `map_elements` without specifying `return_dtype` can lead to unpredictable results. Specify `return_dtype` to silence this warning.\n",
      "sys:1: MapWithoutReturnDtypeWarning: Calling `map_elements` without specifying `return_dtype` can lead to unpredictable results. Specify `return_dtype` to silence this warning.\n",
      "sys:1: MapWithoutReturnDtypeWarning: Calling `map_elements` without specifying `return_dtype` can lead to unpredictable results. Specify `return_dtype` to silence this warning.\n",
      "sys:1: MapWithoutReturnDtypeWarning: Calling `map_elements` without specifying `return_dtype` can lead to unpredictable results. Specify `return_dtype` to silence this warning.\n",
      "sys:1: MapWithoutReturnDtypeWarning: Calling `map_elements` without specifying `return_dtype` can lead to unpredictable results. Specify `return_dtype` to silence this warning.\n",
      "sys:1: MapWithoutReturnDtypeWarning: Calling `map_elements` without specifying `return_dtype` can lead to unpredictable results. Specify `return_dtype` to silence this warning.\n",
      "sys:1: MapWithoutReturnDtypeWarning: Calling `map_elements` without specifying `return_dtype` can lead to unpredictable results. Specify `return_dtype` to silence this warning.\n",
      "sys:1: MapWithoutReturnDtypeWarning: Calling `map_elements` without specifying `return_dtype` can lead to unpredictable results. Specify `return_dtype` to silence this warning.\n",
      "sys:1: MapWithoutReturnDtypeWarning: Calling `map_elements` without specifying `return_dtype` can lead to unpredictable results. Specify `return_dtype` to silence this warning.\n",
      "sys:1: MapWithoutReturnDtypeWarning: Calling `map_elements` without specifying `return_dtype` can lead to unpredictable results. Specify `return_dtype` to silence this warning.\n",
      "sys:1: MapWithoutReturnDtypeWarning: Calling `map_elements` without specifying `return_dtype` can lead to unpredictable results. Specify `return_dtype` to silence this warning.\n",
      "sys:1: MapWithoutReturnDtypeWarning: Calling `map_elements` without specifying `return_dtype` can lead to unpredictable results. Specify `return_dtype` to silence this warning.\n",
      "sys:1: MapWithoutReturnDtypeWarning: Calling `map_elements` without specifying `return_dtype` can lead to unpredictable results. Specify `return_dtype` to silence this warning.\n",
      "sys:1: MapWithoutReturnDtypeWarning: Calling `map_elements` without specifying `return_dtype` can lead to unpredictable results. Specify `return_dtype` to silence this warning.\n",
      "sys:1: MapWithoutReturnDtypeWarning: Calling `map_elements` without specifying `return_dtype` can lead to unpredictable results. Specify `return_dtype` to silence this warning.\n",
      "sys:1: MapWithoutReturnDtypeWarning: Calling `map_elements` without specifying `return_dtype` can lead to unpredictable results. Specify `return_dtype` to silence this warning.\n",
      "sys:1: MapWithoutReturnDtypeWarning: Calling `map_elements` without specifying `return_dtype` can lead to unpredictable results. Specify `return_dtype` to silence this warning.\n",
      "sys:1: MapWithoutReturnDtypeWarning: Calling `map_elements` without specifying `return_dtype` can lead to unpredictable results. Specify `return_dtype` to silence this warning.\n",
      "sys:1: MapWithoutReturnDtypeWarning: Calling `map_elements` without specifying `return_dtype` can lead to unpredictable results. Specify `return_dtype` to silence this warning.\n",
      "sys:1: MapWithoutReturnDtypeWarning: Calling `map_elements` without specifying `return_dtype` can lead to unpredictable results. Specify `return_dtype` to silence this warning.\n",
      "sys:1: MapWithoutReturnDtypeWarning: Calling `map_elements` without specifying `return_dtype` can lead to unpredictable results. Specify `return_dtype` to silence this warning.\n",
      "sys:1: MapWithoutReturnDtypeWarning: Calling `map_elements` without specifying `return_dtype` can lead to unpredictable results. Specify `return_dtype` to silence this warning.\n",
      "sys:1: MapWithoutReturnDtypeWarning: Calling `map_elements` without specifying `return_dtype` can lead to unpredictable results. Specify `return_dtype` to silence this warning.\n",
      "sys:1: MapWithoutReturnDtypeWarning: Calling `map_elements` without specifying `return_dtype` can lead to unpredictable results. Specify `return_dtype` to silence this warning.\n",
      "sys:1: MapWithoutReturnDtypeWarning: Calling `map_elements` without specifying `return_dtype` can lead to unpredictable results. Specify `return_dtype` to silence this warning.\n",
      "sys:1: MapWithoutReturnDtypeWarning: Calling `map_elements` without specifying `return_dtype` can lead to unpredictable results. Specify `return_dtype` to silence this warning.\n",
      "sys:1: MapWithoutReturnDtypeWarning: Calling `map_elements` without specifying `return_dtype` can lead to unpredictable results. Specify `return_dtype` to silence this warning.\n",
      "sys:1: MapWithoutReturnDtypeWarning: Calling `map_elements` without specifying `return_dtype` can lead to unpredictable results. Specify `return_dtype` to silence this warning.\n",
      "sys:1: MapWithoutReturnDtypeWarning: Calling `map_elements` without specifying `return_dtype` can lead to unpredictable results. Specify `return_dtype` to silence this warning.\n",
      "sys:1: MapWithoutReturnDtypeWarning: Calling `map_elements` without specifying `return_dtype` can lead to unpredictable results. Specify `return_dtype` to silence this warning.\n",
      "sys:1: MapWithoutReturnDtypeWarning: Calling `map_elements` without specifying `return_dtype` can lead to unpredictable results. Specify `return_dtype` to silence this warning.\n",
      "sys:1: MapWithoutReturnDtypeWarning: Calling `map_elements` without specifying `return_dtype` can lead to unpredictable results. Specify `return_dtype` to silence this warning.\n",
      "sys:1: MapWithoutReturnDtypeWarning: Calling `map_elements` without specifying `return_dtype` can lead to unpredictable results. Specify `return_dtype` to silence this warning.\n",
      "sys:1: MapWithoutReturnDtypeWarning: Calling `map_elements` without specifying `return_dtype` can lead to unpredictable results. Specify `return_dtype` to silence this warning.\n",
      "sys:1: MapWithoutReturnDtypeWarning: Calling `map_elements` without specifying `return_dtype` can lead to unpredictable results. Specify `return_dtype` to silence this warning.\n",
      "sys:1: MapWithoutReturnDtypeWarning: Calling `map_elements` without specifying `return_dtype` can lead to unpredictable results. Specify `return_dtype` to silence this warning.\n",
      "sys:1: MapWithoutReturnDtypeWarning: Calling `map_elements` without specifying `return_dtype` can lead to unpredictable results. Specify `return_dtype` to silence this warning.\n",
      "sys:1: MapWithoutReturnDtypeWarning: Calling `map_elements` without specifying `return_dtype` can lead to unpredictable results. Specify `return_dtype` to silence this warning.\n",
      "sys:1: MapWithoutReturnDtypeWarning: Calling `map_elements` without specifying `return_dtype` can lead to unpredictable results. Specify `return_dtype` to silence this warning.\n",
      "sys:1: MapWithoutReturnDtypeWarning: Calling `map_elements` without specifying `return_dtype` can lead to unpredictable results. Specify `return_dtype` to silence this warning.\n",
      "sys:1: MapWithoutReturnDtypeWarning: Calling `map_elements` without specifying `return_dtype` can lead to unpredictable results. Specify `return_dtype` to silence this warning.\n",
      "sys:1: MapWithoutReturnDtypeWarning: Calling `map_elements` without specifying `return_dtype` can lead to unpredictable results. Specify `return_dtype` to silence this warning.\n",
      "sys:1: MapWithoutReturnDtypeWarning: Calling `map_elements` without specifying `return_dtype` can lead to unpredictable results. Specify `return_dtype` to silence this warning.\n",
      "sys:1: MapWithoutReturnDtypeWarning: Calling `map_elements` without specifying `return_dtype` can lead to unpredictable results. Specify `return_dtype` to silence this warning.\n",
      "sys:1: MapWithoutReturnDtypeWarning: Calling `map_elements` without specifying `return_dtype` can lead to unpredictable results. Specify `return_dtype` to silence this warning.\n",
      "sys:1: MapWithoutReturnDtypeWarning: Calling `map_elements` without specifying `return_dtype` can lead to unpredictable results. Specify `return_dtype` to silence this warning.\n",
      "sys:1: MapWithoutReturnDtypeWarning: Calling `map_elements` without specifying `return_dtype` can lead to unpredictable results. Specify `return_dtype` to silence this warning.\n",
      "sys:1: MapWithoutReturnDtypeWarning: Calling `map_elements` without specifying `return_dtype` can lead to unpredictable results. Specify `return_dtype` to silence this warning.\n",
      "sys:1: MapWithoutReturnDtypeWarning: Calling `map_elements` without specifying `return_dtype` can lead to unpredictable results. Specify `return_dtype` to silence this warning.\n",
      "sys:1: MapWithoutReturnDtypeWarning: Calling `map_elements` without specifying `return_dtype` can lead to unpredictable results. Specify `return_dtype` to silence this warning.\n",
      "sys:1: MapWithoutReturnDtypeWarning: Calling `map_elements` without specifying `return_dtype` can lead to unpredictable results. Specify `return_dtype` to silence this warning.\n",
      "sys:1: MapWithoutReturnDtypeWarning: Calling `map_elements` without specifying `return_dtype` can lead to unpredictable results. Specify `return_dtype` to silence this warning.\n",
      "sys:1: MapWithoutReturnDtypeWarning: Calling `map_elements` without specifying `return_dtype` can lead to unpredictable results. Specify `return_dtype` to silence this warning.\n",
      "sys:1: MapWithoutReturnDtypeWarning: Calling `map_elements` without specifying `return_dtype` can lead to unpredictable results. Specify `return_dtype` to silence this warning.\n",
      "sys:1: MapWithoutReturnDtypeWarning: Calling `map_elements` without specifying `return_dtype` can lead to unpredictable results. Specify `return_dtype` to silence this warning.\n",
      "sys:1: MapWithoutReturnDtypeWarning: Calling `map_elements` without specifying `return_dtype` can lead to unpredictable results. Specify `return_dtype` to silence this warning.\n",
      "sys:1: MapWithoutReturnDtypeWarning: Calling `map_elements` without specifying `return_dtype` can lead to unpredictable results. Specify `return_dtype` to silence this warning.\n",
      "sys:1: MapWithoutReturnDtypeWarning: Calling `map_elements` without specifying `return_dtype` can lead to unpredictable results. Specify `return_dtype` to silence this warning.\n",
      "sys:1: MapWithoutReturnDtypeWarning: Calling `map_elements` without specifying `return_dtype` can lead to unpredictable results. Specify `return_dtype` to silence this warning.\n",
      "sys:1: MapWithoutReturnDtypeWarning: Calling `map_elements` without specifying `return_dtype` can lead to unpredictable results. Specify `return_dtype` to silence this warning.\n",
      "sys:1: MapWithoutReturnDtypeWarning: Calling `map_elements` without specifying `return_dtype` can lead to unpredictable results. Specify `return_dtype` to silence this warning.\n",
      "sys:1: MapWithoutReturnDtypeWarning: Calling `map_elements` without specifying `return_dtype` can lead to unpredictable results. Specify `return_dtype` to silence this warning.\n",
      "sys:1: MapWithoutReturnDtypeWarning: Calling `map_elements` without specifying `return_dtype` can lead to unpredictable results. Specify `return_dtype` to silence this warning.\n",
      "sys:1: MapWithoutReturnDtypeWarning: Calling `map_elements` without specifying `return_dtype` can lead to unpredictable results. Specify `return_dtype` to silence this warning.\n",
      "sys:1: MapWithoutReturnDtypeWarning: Calling `map_elements` without specifying `return_dtype` can lead to unpredictable results. Specify `return_dtype` to silence this warning.\n",
      "sys:1: MapWithoutReturnDtypeWarning: Calling `map_elements` without specifying `return_dtype` can lead to unpredictable results. Specify `return_dtype` to silence this warning.\n",
      "sys:1: MapWithoutReturnDtypeWarning: Calling `map_elements` without specifying `return_dtype` can lead to unpredictable results. Specify `return_dtype` to silence this warning.\n",
      "sys:1: MapWithoutReturnDtypeWarning: Calling `map_elements` without specifying `return_dtype` can lead to unpredictable results. Specify `return_dtype` to silence this warning.\n",
      "sys:1: MapWithoutReturnDtypeWarning: Calling `map_elements` without specifying `return_dtype` can lead to unpredictable results. Specify `return_dtype` to silence this warning.\n",
      "sys:1: MapWithoutReturnDtypeWarning: Calling `map_elements` without specifying `return_dtype` can lead to unpredictable results. Specify `return_dtype` to silence this warning.\n",
      "sys:1: MapWithoutReturnDtypeWarning: Calling `map_elements` without specifying `return_dtype` can lead to unpredictable results. Specify `return_dtype` to silence this warning.\n",
      "sys:1: MapWithoutReturnDtypeWarning: Calling `map_elements` without specifying `return_dtype` can lead to unpredictable results. Specify `return_dtype` to silence this warning.\n",
      "sys:1: MapWithoutReturnDtypeWarning: Calling `map_elements` without specifying `return_dtype` can lead to unpredictable results. Specify `return_dtype` to silence this warning.\n",
      "sys:1: MapWithoutReturnDtypeWarning: Calling `map_elements` without specifying `return_dtype` can lead to unpredictable results. Specify `return_dtype` to silence this warning.\n",
      "sys:1: MapWithoutReturnDtypeWarning: Calling `map_elements` without specifying `return_dtype` can lead to unpredictable results. Specify `return_dtype` to silence this warning.\n",
      "sys:1: MapWithoutReturnDtypeWarning: Calling `map_elements` without specifying `return_dtype` can lead to unpredictable results. Specify `return_dtype` to silence this warning.\n",
      "sys:1: MapWithoutReturnDtypeWarning: Calling `map_elements` without specifying `return_dtype` can lead to unpredictable results. Specify `return_dtype` to silence this warning.\n",
      "sys:1: MapWithoutReturnDtypeWarning: Calling `map_elements` without specifying `return_dtype` can lead to unpredictable results. Specify `return_dtype` to silence this warning.\n",
      "sys:1: MapWithoutReturnDtypeWarning: Calling `map_elements` without specifying `return_dtype` can lead to unpredictable results. Specify `return_dtype` to silence this warning.\n",
      "sys:1: MapWithoutReturnDtypeWarning: Calling `map_elements` without specifying `return_dtype` can lead to unpredictable results. Specify `return_dtype` to silence this warning.\n",
      "sys:1: MapWithoutReturnDtypeWarning: Calling `map_elements` without specifying `return_dtype` can lead to unpredictable results. Specify `return_dtype` to silence this warning.\n",
      "sys:1: MapWithoutReturnDtypeWarning: Calling `map_elements` without specifying `return_dtype` can lead to unpredictable results. Specify `return_dtype` to silence this warning.\n",
      "sys:1: MapWithoutReturnDtypeWarning: Calling `map_elements` without specifying `return_dtype` can lead to unpredictable results. Specify `return_dtype` to silence this warning.\n",
      "sys:1: MapWithoutReturnDtypeWarning: Calling `map_elements` without specifying `return_dtype` can lead to unpredictable results. Specify `return_dtype` to silence this warning.\n",
      "sys:1: MapWithoutReturnDtypeWarning: Calling `map_elements` without specifying `return_dtype` can lead to unpredictable results. Specify `return_dtype` to silence this warning.\n",
      "sys:1: MapWithoutReturnDtypeWarning: Calling `map_elements` without specifying `return_dtype` can lead to unpredictable results. Specify `return_dtype` to silence this warning.\n",
      "sys:1: MapWithoutReturnDtypeWarning: Calling `map_elements` without specifying `return_dtype` can lead to unpredictable results. Specify `return_dtype` to silence this warning.\n",
      "sys:1: MapWithoutReturnDtypeWarning: Calling `map_elements` without specifying `return_dtype` can lead to unpredictable results. Specify `return_dtype` to silence this warning.\n",
      "sys:1: MapWithoutReturnDtypeWarning: Calling `map_elements` without specifying `return_dtype` can lead to unpredictable results. Specify `return_dtype` to silence this warning.\n",
      "sys:1: MapWithoutReturnDtypeWarning: Calling `map_elements` without specifying `return_dtype` can lead to unpredictable results. Specify `return_dtype` to silence this warning.\n",
      "sys:1: MapWithoutReturnDtypeWarning: Calling `map_elements` without specifying `return_dtype` can lead to unpredictable results. Specify `return_dtype` to silence this warning.\n",
      "sys:1: MapWithoutReturnDtypeWarning: Calling `map_elements` without specifying `return_dtype` can lead to unpredictable results. Specify `return_dtype` to silence this warning.\n",
      "sys:1: MapWithoutReturnDtypeWarning: Calling `map_elements` without specifying `return_dtype` can lead to unpredictable results. Specify `return_dtype` to silence this warning.\n",
      "sys:1: MapWithoutReturnDtypeWarning: Calling `map_elements` without specifying `return_dtype` can lead to unpredictable results. Specify `return_dtype` to silence this warning.\n",
      "sys:1: MapWithoutReturnDtypeWarning: Calling `map_elements` without specifying `return_dtype` can lead to unpredictable results. Specify `return_dtype` to silence this warning.\n",
      "sys:1: MapWithoutReturnDtypeWarning: Calling `map_elements` without specifying `return_dtype` can lead to unpredictable results. Specify `return_dtype` to silence this warning.\n",
      "sys:1: MapWithoutReturnDtypeWarning: Calling `map_elements` without specifying `return_dtype` can lead to unpredictable results. Specify `return_dtype` to silence this warning.\n",
      "sys:1: MapWithoutReturnDtypeWarning: Calling `map_elements` without specifying `return_dtype` can lead to unpredictable results. Specify `return_dtype` to silence this warning.\n",
      "sys:1: MapWithoutReturnDtypeWarning: Calling `map_elements` without specifying `return_dtype` can lead to unpredictable results. Specify `return_dtype` to silence this warning.\n",
      "sys:1: MapWithoutReturnDtypeWarning: Calling `map_elements` without specifying `return_dtype` can lead to unpredictable results. Specify `return_dtype` to silence this warning.\n",
      "sys:1: MapWithoutReturnDtypeWarning: Calling `map_elements` without specifying `return_dtype` can lead to unpredictable results. Specify `return_dtype` to silence this warning.\n",
      "sys:1: MapWithoutReturnDtypeWarning: Calling `map_elements` without specifying `return_dtype` can lead to unpredictable results. Specify `return_dtype` to silence this warning.\n",
      "sys:1: MapWithoutReturnDtypeWarning: Calling `map_elements` without specifying `return_dtype` can lead to unpredictable results. Specify `return_dtype` to silence this warning.\n",
      "sys:1: MapWithoutReturnDtypeWarning: Calling `map_elements` without specifying `return_dtype` can lead to unpredictable results. Specify `return_dtype` to silence this warning.\n",
      "sys:1: MapWithoutReturnDtypeWarning: Calling `map_elements` without specifying `return_dtype` can lead to unpredictable results. Specify `return_dtype` to silence this warning.\n",
      "sys:1: MapWithoutReturnDtypeWarning: Calling `map_elements` without specifying `return_dtype` can lead to unpredictable results. Specify `return_dtype` to silence this warning.\n",
      "sys:1: MapWithoutReturnDtypeWarning: Calling `map_elements` without specifying `return_dtype` can lead to unpredictable results. Specify `return_dtype` to silence this warning.\n",
      "sys:1: MapWithoutReturnDtypeWarning: Calling `map_elements` without specifying `return_dtype` can lead to unpredictable results. Specify `return_dtype` to silence this warning.\n",
      "sys:1: MapWithoutReturnDtypeWarning: Calling `map_elements` without specifying `return_dtype` can lead to unpredictable results. Specify `return_dtype` to silence this warning.\n",
      "sys:1: MapWithoutReturnDtypeWarning: Calling `map_elements` without specifying `return_dtype` can lead to unpredictable results. Specify `return_dtype` to silence this warning.\n",
      "sys:1: MapWithoutReturnDtypeWarning: Calling `map_elements` without specifying `return_dtype` can lead to unpredictable results. Specify `return_dtype` to silence this warning.\n",
      "sys:1: MapWithoutReturnDtypeWarning: Calling `map_elements` without specifying `return_dtype` can lead to unpredictable results. Specify `return_dtype` to silence this warning.\n",
      "sys:1: MapWithoutReturnDtypeWarning: Calling `map_elements` without specifying `return_dtype` can lead to unpredictable results. Specify `return_dtype` to silence this warning.\n",
      "sys:1: MapWithoutReturnDtypeWarning: Calling `map_elements` without specifying `return_dtype` can lead to unpredictable results. Specify `return_dtype` to silence this warning.\n",
      "sys:1: MapWithoutReturnDtypeWarning: Calling `map_elements` without specifying `return_dtype` can lead to unpredictable results. Specify `return_dtype` to silence this warning.\n",
      "sys:1: MapWithoutReturnDtypeWarning: Calling `map_elements` without specifying `return_dtype` can lead to unpredictable results. Specify `return_dtype` to silence this warning.\n",
      "sys:1: MapWithoutReturnDtypeWarning: Calling `map_elements` without specifying `return_dtype` can lead to unpredictable results. Specify `return_dtype` to silence this warning.\n",
      "sys:1: MapWithoutReturnDtypeWarning: Calling `map_elements` without specifying `return_dtype` can lead to unpredictable results. Specify `return_dtype` to silence this warning.\n",
      "sys:1: MapWithoutReturnDtypeWarning: Calling `map_elements` without specifying `return_dtype` can lead to unpredictable results. Specify `return_dtype` to silence this warning.\n",
      "sys:1: MapWithoutReturnDtypeWarning: Calling `map_elements` without specifying `return_dtype` can lead to unpredictable results. Specify `return_dtype` to silence this warning.\n",
      "sys:1: MapWithoutReturnDtypeWarning: Calling `map_elements` without specifying `return_dtype` can lead to unpredictable results. Specify `return_dtype` to silence this warning.\n",
      "sys:1: MapWithoutReturnDtypeWarning: Calling `map_elements` without specifying `return_dtype` can lead to unpredictable results. Specify `return_dtype` to silence this warning.\n",
      "sys:1: MapWithoutReturnDtypeWarning: Calling `map_elements` without specifying `return_dtype` can lead to unpredictable results. Specify `return_dtype` to silence this warning.\n",
      "sys:1: MapWithoutReturnDtypeWarning: Calling `map_elements` without specifying `return_dtype` can lead to unpredictable results. Specify `return_dtype` to silence this warning.\n",
      "sys:1: MapWithoutReturnDtypeWarning: Calling `map_elements` without specifying `return_dtype` can lead to unpredictable results. Specify `return_dtype` to silence this warning.\n",
      "sys:1: MapWithoutReturnDtypeWarning: Calling `map_elements` without specifying `return_dtype` can lead to unpredictable results. Specify `return_dtype` to silence this warning.\n",
      "sys:1: MapWithoutReturnDtypeWarning: Calling `map_elements` without specifying `return_dtype` can lead to unpredictable results. Specify `return_dtype` to silence this warning.\n",
      "sys:1: MapWithoutReturnDtypeWarning: Calling `map_elements` without specifying `return_dtype` can lead to unpredictable results. Specify `return_dtype` to silence this warning.\n",
      "sys:1: MapWithoutReturnDtypeWarning: Calling `map_elements` without specifying `return_dtype` can lead to unpredictable results. Specify `return_dtype` to silence this warning.\n",
      "sys:1: MapWithoutReturnDtypeWarning: Calling `map_elements` without specifying `return_dtype` can lead to unpredictable results. Specify `return_dtype` to silence this warning.\n",
      "sys:1: MapWithoutReturnDtypeWarning: Calling `map_elements` without specifying `return_dtype` can lead to unpredictable results. Specify `return_dtype` to silence this warning.\n",
      "sys:1: MapWithoutReturnDtypeWarning: Calling `map_elements` without specifying `return_dtype` can lead to unpredictable results. Specify `return_dtype` to silence this warning.\n",
      "sys:1: MapWithoutReturnDtypeWarning: Calling `map_elements` without specifying `return_dtype` can lead to unpredictable results. Specify `return_dtype` to silence this warning.\n",
      "sys:1: MapWithoutReturnDtypeWarning: Calling `map_elements` without specifying `return_dtype` can lead to unpredictable results. Specify `return_dtype` to silence this warning.\n",
      "sys:1: MapWithoutReturnDtypeWarning: Calling `map_elements` without specifying `return_dtype` can lead to unpredictable results. Specify `return_dtype` to silence this warning.\n",
      "sys:1: MapWithoutReturnDtypeWarning: Calling `map_elements` without specifying `return_dtype` can lead to unpredictable results. Specify `return_dtype` to silence this warning.\n",
      "sys:1: MapWithoutReturnDtypeWarning: Calling `map_elements` without specifying `return_dtype` can lead to unpredictable results. Specify `return_dtype` to silence this warning.\n",
      "sys:1: MapWithoutReturnDtypeWarning: Calling `map_elements` without specifying `return_dtype` can lead to unpredictable results. Specify `return_dtype` to silence this warning.\n",
      "sys:1: MapWithoutReturnDtypeWarning: Calling `map_elements` without specifying `return_dtype` can lead to unpredictable results. Specify `return_dtype` to silence this warning.\n",
      "sys:1: MapWithoutReturnDtypeWarning: Calling `map_elements` without specifying `return_dtype` can lead to unpredictable results. Specify `return_dtype` to silence this warning.\n",
      "sys:1: MapWithoutReturnDtypeWarning: Calling `map_elements` without specifying `return_dtype` can lead to unpredictable results. Specify `return_dtype` to silence this warning.\n",
      "sys:1: MapWithoutReturnDtypeWarning: Calling `map_elements` without specifying `return_dtype` can lead to unpredictable results. Specify `return_dtype` to silence this warning.\n",
      "sys:1: MapWithoutReturnDtypeWarning: Calling `map_elements` without specifying `return_dtype` can lead to unpredictable results. Specify `return_dtype` to silence this warning.\n",
      "sys:1: MapWithoutReturnDtypeWarning: Calling `map_elements` without specifying `return_dtype` can lead to unpredictable results. Specify `return_dtype` to silence this warning.\n",
      "sys:1: MapWithoutReturnDtypeWarning: Calling `map_elements` without specifying `return_dtype` can lead to unpredictable results. Specify `return_dtype` to silence this warning.\n",
      "sys:1: MapWithoutReturnDtypeWarning: Calling `map_elements` without specifying `return_dtype` can lead to unpredictable results. Specify `return_dtype` to silence this warning.\n",
      "sys:1: MapWithoutReturnDtypeWarning: Calling `map_elements` without specifying `return_dtype` can lead to unpredictable results. Specify `return_dtype` to silence this warning.\n",
      "sys:1: MapWithoutReturnDtypeWarning: Calling `map_elements` without specifying `return_dtype` can lead to unpredictable results. Specify `return_dtype` to silence this warning.\n",
      "sys:1: MapWithoutReturnDtypeWarning: Calling `map_elements` without specifying `return_dtype` can lead to unpredictable results. Specify `return_dtype` to silence this warning.\n",
      "sys:1: MapWithoutReturnDtypeWarning: Calling `map_elements` without specifying `return_dtype` can lead to unpredictable results. Specify `return_dtype` to silence this warning.\n",
      "sys:1: MapWithoutReturnDtypeWarning: Calling `map_elements` without specifying `return_dtype` can lead to unpredictable results. Specify `return_dtype` to silence this warning.\n",
      "sys:1: MapWithoutReturnDtypeWarning: Calling `map_elements` without specifying `return_dtype` can lead to unpredictable results. Specify `return_dtype` to silence this warning.\n",
      "sys:1: MapWithoutReturnDtypeWarning: Calling `map_elements` without specifying `return_dtype` can lead to unpredictable results. Specify `return_dtype` to silence this warning.\n",
      "sys:1: MapWithoutReturnDtypeWarning: Calling `map_elements` without specifying `return_dtype` can lead to unpredictable results. Specify `return_dtype` to silence this warning.\n",
      "sys:1: MapWithoutReturnDtypeWarning: Calling `map_elements` without specifying `return_dtype` can lead to unpredictable results. Specify `return_dtype` to silence this warning.\n",
      "sys:1: MapWithoutReturnDtypeWarning: Calling `map_elements` without specifying `return_dtype` can lead to unpredictable results. Specify `return_dtype` to silence this warning.\n",
      "sys:1: MapWithoutReturnDtypeWarning: Calling `map_elements` without specifying `return_dtype` can lead to unpredictable results. Specify `return_dtype` to silence this warning.\n",
      "sys:1: MapWithoutReturnDtypeWarning: Calling `map_elements` without specifying `return_dtype` can lead to unpredictable results. Specify `return_dtype` to silence this warning.\n",
      "sys:1: MapWithoutReturnDtypeWarning: Calling `map_elements` without specifying `return_dtype` can lead to unpredictable results. Specify `return_dtype` to silence this warning.\n",
      "sys:1: MapWithoutReturnDtypeWarning: Calling `map_elements` without specifying `return_dtype` can lead to unpredictable results. Specify `return_dtype` to silence this warning.\n",
      "sys:1: MapWithoutReturnDtypeWarning: Calling `map_elements` without specifying `return_dtype` can lead to unpredictable results. Specify `return_dtype` to silence this warning.\n",
      "sys:1: MapWithoutReturnDtypeWarning: Calling `map_elements` without specifying `return_dtype` can lead to unpredictable results. Specify `return_dtype` to silence this warning.\n",
      "sys:1: MapWithoutReturnDtypeWarning: Calling `map_elements` without specifying `return_dtype` can lead to unpredictable results. Specify `return_dtype` to silence this warning.\n",
      "sys:1: MapWithoutReturnDtypeWarning: Calling `map_elements` without specifying `return_dtype` can lead to unpredictable results. Specify `return_dtype` to silence this warning.\n",
      "sys:1: MapWithoutReturnDtypeWarning: Calling `map_elements` without specifying `return_dtype` can lead to unpredictable results. Specify `return_dtype` to silence this warning.\n",
      "sys:1: MapWithoutReturnDtypeWarning: Calling `map_elements` without specifying `return_dtype` can lead to unpredictable results. Specify `return_dtype` to silence this warning.\n",
      "sys:1: MapWithoutReturnDtypeWarning: Calling `map_elements` without specifying `return_dtype` can lead to unpredictable results. Specify `return_dtype` to silence this warning.\n",
      "sys:1: MapWithoutReturnDtypeWarning: Calling `map_elements` without specifying `return_dtype` can lead to unpredictable results. Specify `return_dtype` to silence this warning.\n",
      "sys:1: MapWithoutReturnDtypeWarning: Calling `map_elements` without specifying `return_dtype` can lead to unpredictable results. Specify `return_dtype` to silence this warning.\n",
      "sys:1: MapWithoutReturnDtypeWarning: Calling `map_elements` without specifying `return_dtype` can lead to unpredictable results. Specify `return_dtype` to silence this warning.\n",
      "sys:1: MapWithoutReturnDtypeWarning: Calling `map_elements` without specifying `return_dtype` can lead to unpredictable results. Specify `return_dtype` to silence this warning.\n",
      "sys:1: MapWithoutReturnDtypeWarning: Calling `map_elements` without specifying `return_dtype` can lead to unpredictable results. Specify `return_dtype` to silence this warning.\n",
      "sys:1: MapWithoutReturnDtypeWarning: Calling `map_elements` without specifying `return_dtype` can lead to unpredictable results. Specify `return_dtype` to silence this warning.\n",
      "sys:1: MapWithoutReturnDtypeWarning: Calling `map_elements` without specifying `return_dtype` can lead to unpredictable results. Specify `return_dtype` to silence this warning.\n",
      "sys:1: MapWithoutReturnDtypeWarning: Calling `map_elements` without specifying `return_dtype` can lead to unpredictable results. Specify `return_dtype` to silence this warning.\n",
      "sys:1: MapWithoutReturnDtypeWarning: Calling `map_elements` without specifying `return_dtype` can lead to unpredictable results. Specify `return_dtype` to silence this warning.\n",
      "sys:1: MapWithoutReturnDtypeWarning: Calling `map_elements` without specifying `return_dtype` can lead to unpredictable results. Specify `return_dtype` to silence this warning.\n",
      "sys:1: MapWithoutReturnDtypeWarning: Calling `map_elements` without specifying `return_dtype` can lead to unpredictable results. Specify `return_dtype` to silence this warning.\n",
      "sys:1: MapWithoutReturnDtypeWarning: Calling `map_elements` without specifying `return_dtype` can lead to unpredictable results. Specify `return_dtype` to silence this warning.\n",
      "sys:1: MapWithoutReturnDtypeWarning: Calling `map_elements` without specifying `return_dtype` can lead to unpredictable results. Specify `return_dtype` to silence this warning.\n",
      "sys:1: MapWithoutReturnDtypeWarning: Calling `map_elements` without specifying `return_dtype` can lead to unpredictable results. Specify `return_dtype` to silence this warning.\n",
      "sys:1: MapWithoutReturnDtypeWarning: Calling `map_elements` without specifying `return_dtype` can lead to unpredictable results. Specify `return_dtype` to silence this warning.\n",
      "sys:1: MapWithoutReturnDtypeWarning: Calling `map_elements` without specifying `return_dtype` can lead to unpredictable results. Specify `return_dtype` to silence this warning.\n",
      "sys:1: MapWithoutReturnDtypeWarning: Calling `map_elements` without specifying `return_dtype` can lead to unpredictable results. Specify `return_dtype` to silence this warning.\n",
      "sys:1: MapWithoutReturnDtypeWarning: Calling `map_elements` without specifying `return_dtype` can lead to unpredictable results. Specify `return_dtype` to silence this warning.\n",
      "sys:1: MapWithoutReturnDtypeWarning: Calling `map_elements` without specifying `return_dtype` can lead to unpredictable results. Specify `return_dtype` to silence this warning.\n",
      "sys:1: MapWithoutReturnDtypeWarning: Calling `map_elements` without specifying `return_dtype` can lead to unpredictable results. Specify `return_dtype` to silence this warning.\n",
      "sys:1: MapWithoutReturnDtypeWarning: Calling `map_elements` without specifying `return_dtype` can lead to unpredictable results. Specify `return_dtype` to silence this warning.\n",
      "sys:1: MapWithoutReturnDtypeWarning: Calling `map_elements` without specifying `return_dtype` can lead to unpredictable results. Specify `return_dtype` to silence this warning.\n",
      "sys:1: MapWithoutReturnDtypeWarning: Calling `map_elements` without specifying `return_dtype` can lead to unpredictable results. Specify `return_dtype` to silence this warning.\n",
      "sys:1: MapWithoutReturnDtypeWarning: Calling `map_elements` without specifying `return_dtype` can lead to unpredictable results. Specify `return_dtype` to silence this warning.\n",
      "sys:1: MapWithoutReturnDtypeWarning: Calling `map_elements` without specifying `return_dtype` can lead to unpredictable results. Specify `return_dtype` to silence this warning.\n",
      "sys:1: MapWithoutReturnDtypeWarning: Calling `map_elements` without specifying `return_dtype` can lead to unpredictable results. Specify `return_dtype` to silence this warning.\n",
      "sys:1: MapWithoutReturnDtypeWarning: Calling `map_elements` without specifying `return_dtype` can lead to unpredictable results. Specify `return_dtype` to silence this warning.\n",
      "sys:1: MapWithoutReturnDtypeWarning: Calling `map_elements` without specifying `return_dtype` can lead to unpredictable results. Specify `return_dtype` to silence this warning.\n",
      "sys:1: MapWithoutReturnDtypeWarning: Calling `map_elements` without specifying `return_dtype` can lead to unpredictable results. Specify `return_dtype` to silence this warning.\n",
      "sys:1: MapWithoutReturnDtypeWarning: Calling `map_elements` without specifying `return_dtype` can lead to unpredictable results. Specify `return_dtype` to silence this warning.\n",
      "sys:1: MapWithoutReturnDtypeWarning: Calling `map_elements` without specifying `return_dtype` can lead to unpredictable results. Specify `return_dtype` to silence this warning.\n",
      "sys:1: MapWithoutReturnDtypeWarning: Calling `map_elements` without specifying `return_dtype` can lead to unpredictable results. Specify `return_dtype` to silence this warning.\n",
      "sys:1: MapWithoutReturnDtypeWarning: Calling `map_elements` without specifying `return_dtype` can lead to unpredictable results. Specify `return_dtype` to silence this warning.\n",
      "sys:1: MapWithoutReturnDtypeWarning: Calling `map_elements` without specifying `return_dtype` can lead to unpredictable results. Specify `return_dtype` to silence this warning.\n"
     ]
    },
    {
     "data": {
      "text/plain": [
       "shape: (5, 24)\n",
       "┌─────┬────────────┬────────────┬────────────┬───┬────────────┬────────────┬───────────┬───────────┐\n",
       "│     ┆ name       ┆ ingredient ┆ instructio ┆ … ┆ dietary_ta ┆ dietary_ta ┆ dietary_t ┆ dietary_t │\n",
       "│ --- ┆ ---        ┆ s          ┆ ns         ┆   ┆ gs_Vegetar ┆ gs_Non-Hal ┆ ags_Koshe ┆ ags_Vegan │\n",
       "│ i64 ┆ str        ┆ ---        ┆ ---        ┆   ┆ ian        ┆ al         ┆ r         ┆ ---       │\n",
       "│     ┆            ┆ str        ┆ str        ┆   ┆ ---        ┆ ---        ┆ ---       ┆ i8        │\n",
       "│     ┆            ┆            ┆            ┆   ┆ i8         ┆ i8         ┆ i8        ┆           │\n",
       "╞═════╪════════════╪════════════╪════════════╪═══╪════════════╪════════════╪═══════════╪═══════════╡\n",
       "│ 0   ┆ No-Bake    ┆ 1 c.       ┆ In a heavy ┆ … ┆ 1          ┆ 0          ┆ 1         ┆ 0         │\n",
       "│     ┆ Nut        ┆ firmly     ┆ 2-quart    ┆   ┆            ┆            ┆           ┆           │\n",
       "│     ┆ Cookies    ┆ packed     ┆ saucepan,  ┆   ┆            ┆            ┆           ┆           │\n",
       "│     ┆            ┆ brown      ┆ m…         ┆   ┆            ┆            ┆           ┆           │\n",
       "│     ┆            ┆ sugar…     ┆            ┆   ┆            ┆            ┆           ┆           │\n",
       "│ 1   ┆ Jewell     ┆ 1 small    ┆ Place      ┆ … ┆ 0          ┆ 0          ┆ 1         ┆ 0         │\n",
       "│     ┆ Ball'S     ┆ jar        ┆ chipped    ┆   ┆            ┆            ┆           ┆           │\n",
       "│     ┆ Chicken    ┆ chipped    ┆ beef on    ┆   ┆            ┆            ┆           ┆           │\n",
       "│     ┆            ┆ beef, cut  ┆ bottom o…  ┆   ┆            ┆            ┆           ┆           │\n",
       "│     ┆            ┆ …          ┆            ┆   ┆            ┆            ┆           ┆           │\n",
       "│ 2   ┆ Creamy     ┆ 2 (16 oz.) ┆ In a slow  ┆ … ┆ 1          ┆ 0          ┆ 1         ┆ 0         │\n",
       "│     ┆ Corn       ┆ pkg.       ┆ cooker,    ┆   ┆            ┆            ┆           ┆           │\n",
       "│     ┆            ┆ frozen     ┆ combine    ┆   ┆            ┆            ┆           ┆           │\n",
       "│     ┆            ┆ corn|1 …   ┆ all …      ┆   ┆            ┆            ┆           ┆           │\n",
       "│ 3   ┆ Chicken    ┆ 1 large    ┆ Boil and   ┆ … ┆ 0          ┆ 0          ┆ 1         ┆ 0         │\n",
       "│     ┆ Funny      ┆ whole      ┆ debone chi ┆   ┆            ┆            ┆           ┆           │\n",
       "│     ┆            ┆ chicken|2  ┆ cken.|Put  ┆   ┆            ┆            ┆           ┆           │\n",
       "│     ┆            ┆ (10 1/…    ┆ b…         ┆   ┆            ┆            ┆           ┆           │\n",
       "│ 4   ┆ Reeses Cup ┆ 1 c.       ┆ Combine    ┆ … ┆ 1          ┆ 0          ┆ 1         ┆ 0         │\n",
       "│     ┆ s(Candy)   ┆ peanut     ┆ first four ┆   ┆            ┆            ┆           ┆           │\n",
       "│     ┆            ┆ butter|3/4 ┆ ingredient ┆   ┆            ┆            ┆           ┆           │\n",
       "│     ┆            ┆ c. grah…   ┆ s…         ┆   ┆            ┆            ┆           ┆           │\n",
       "└─────┴────────────┴────────────┴────────────┴───┴────────────┴────────────┴───────────┴───────────┘"
      ],
      "text/html": [
       "<div><style>\n",
       ".dataframe > thead > tr,\n",
       ".dataframe > tbody > tr {\n",
       "  text-align: right;\n",
       "  white-space: pre-wrap;\n",
       "}\n",
       "</style>\n",
       "<small>shape: (5, 24)</small><table border=\"1\" class=\"dataframe\"><thead><tr><th></th><th>name</th><th>ingredients</th><th>instructions</th><th>link</th><th>source</th><th>NER</th><th>meal_course_snack</th><th>meal_course_pizza</th><th>meal_course_dessert</th><th>meal_course_side</th><th>meal_course_dinner</th><th>meal_course_breakfast</th><th>meal_course_appetizer</th><th>meal_course_lunch</th><th>meal_course_sandwich/burger</th><th>meal_course_main</th><th>meal_course_miscellaneous</th><th>dietary_tags_Non-Kosher</th><th>dietary_tags_Halal</th><th>dietary_tags_Vegetarian</th><th>dietary_tags_Non-Halal</th><th>dietary_tags_Kosher</th><th>dietary_tags_Vegan</th></tr><tr><td>i64</td><td>str</td><td>str</td><td>str</td><td>str</td><td>str</td><td>str</td><td>i8</td><td>i8</td><td>i8</td><td>i8</td><td>i8</td><td>i8</td><td>i8</td><td>i8</td><td>i8</td><td>i8</td><td>i8</td><td>i8</td><td>i8</td><td>i8</td><td>i8</td><td>i8</td><td>i8</td></tr></thead><tbody><tr><td>0</td><td>&quot;No-Bake Nut Cookies&quot;</td><td>&quot;1 c. firmly packed brown sugar…</td><td>&quot;In a heavy 2-quart saucepan, m…</td><td>&quot;www.cookbooks.com/Recipe-Detai…</td><td>&quot;Gathered&quot;</td><td>&quot;brown sugar|milk|vanilla|nuts|…</td><td>1</td><td>0</td><td>1</td><td>0</td><td>0</td><td>0</td><td>0</td><td>0</td><td>0</td><td>0</td><td>0</td><td>0</td><td>1</td><td>1</td><td>0</td><td>1</td><td>0</td></tr><tr><td>1</td><td>&quot;Jewell Ball&#x27;S Chicken&quot;</td><td>&quot;1 small jar chipped beef, cut …</td><td>&quot;Place chipped beef on bottom o…</td><td>&quot;www.cookbooks.com/Recipe-Detai…</td><td>&quot;Gathered&quot;</td><td>&quot;beef|chicken breasts|cream of …</td><td>0</td><td>0</td><td>0</td><td>0</td><td>1</td><td>0</td><td>0</td><td>1</td><td>0</td><td>0</td><td>0</td><td>0</td><td>1</td><td>0</td><td>0</td><td>1</td><td>0</td></tr><tr><td>2</td><td>&quot;Creamy Corn&quot;</td><td>&quot;2 (16 oz.) pkg. frozen corn|1 …</td><td>&quot;In a slow cooker, combine all …</td><td>&quot;www.cookbooks.com/Recipe-Detai…</td><td>&quot;Gathered&quot;</td><td>&quot;frozen corn|cream cheese|butte…</td><td>0</td><td>0</td><td>0</td><td>0</td><td>0</td><td>0</td><td>0</td><td>0</td><td>0</td><td>0</td><td>1</td><td>0</td><td>1</td><td>1</td><td>0</td><td>1</td><td>0</td></tr><tr><td>3</td><td>&quot;Chicken Funny&quot;</td><td>&quot;1 large whole chicken|2 (10 1/…</td><td>&quot;Boil and debone chicken.|Put b…</td><td>&quot;www.cookbooks.com/Recipe-Detai…</td><td>&quot;Gathered&quot;</td><td>&quot;chicken|chicken gravy|cream of…</td><td>0</td><td>0</td><td>0</td><td>0</td><td>1</td><td>0</td><td>0</td><td>1</td><td>0</td><td>0</td><td>0</td><td>0</td><td>1</td><td>0</td><td>0</td><td>1</td><td>0</td></tr><tr><td>4</td><td>&quot;Reeses Cups(Candy)&nbsp;&nbsp;&quot;</td><td>&quot;1 c. peanut butter|3/4 c. grah…</td><td>&quot;Combine first four ingredients…</td><td>&quot;www.cookbooks.com/Recipe-Detai…</td><td>&quot;Gathered&quot;</td><td>&quot;peanut butter|graham cracker c…</td><td>1</td><td>0</td><td>1</td><td>0</td><td>0</td><td>0</td><td>0</td><td>0</td><td>0</td><td>0</td><td>0</td><td>0</td><td>1</td><td>1</td><td>0</td><td>1</td><td>0</td></tr></tbody></table></div>"
      ]
     },
     "execution_count": 32,
     "metadata": {},
     "output_type": "execute_result"
    }
   ],
   "execution_count": 32
  },
  {
   "metadata": {
    "ExecuteTime": {
     "end_time": "2025-03-06T21:51:08.245550Z",
     "start_time": "2025-03-06T21:51:08.231101Z"
    }
   },
   "cell_type": "code",
   "source": "stringified_df[\"ingredients\"][:5]",
   "id": "b1edc912273072b2",
   "outputs": [
    {
     "data": {
      "text/plain": [
       "shape: (5,)\n",
       "Series: 'ingredients' [str]\n",
       "[\n",
       "\t\"1 c. firmly packed brown sugar…\n",
       "\t\"1 small jar chipped beef, cut …\n",
       "\t\"2 (16 oz.) pkg. frozen corn|1 …\n",
       "\t\"1 large whole chicken|2 (10 1/…\n",
       "\t\"1 c. peanut butter|3/4 c. grah…\n",
       "]"
      ],
      "text/html": [
       "<div><style>\n",
       ".dataframe > thead > tr,\n",
       ".dataframe > tbody > tr {\n",
       "  text-align: right;\n",
       "  white-space: pre-wrap;\n",
       "}\n",
       "</style>\n",
       "<small>shape: (5,)</small><table border=\"1\" class=\"dataframe\"><thead><tr><th>ingredients</th></tr><tr><td>str</td></tr></thead><tbody><tr><td>&quot;1 c. firmly packed brown sugar…</td></tr><tr><td>&quot;1 small jar chipped beef, cut …</td></tr><tr><td>&quot;2 (16 oz.) pkg. frozen corn|1 …</td></tr><tr><td>&quot;1 large whole chicken|2 (10 1/…</td></tr><tr><td>&quot;1 c. peanut butter|3/4 c. grah…</td></tr></tbody></table></div>"
      ]
     },
     "execution_count": 33,
     "metadata": {},
     "output_type": "execute_result"
    }
   ],
   "execution_count": 33
  },
  {
   "metadata": {
    "ExecuteTime": {
     "end_time": "2025-03-06T21:52:16.450569Z",
     "start_time": "2025-03-06T21:51:53.412686Z"
    }
   },
   "cell_type": "code",
   "source": "stringified_df.write_parquet(\"data/recipes3.parquet\")",
   "id": "469e5087a8d536e9",
   "outputs": [],
   "execution_count": 34
  },
  {
   "metadata": {
    "ExecuteTime": {
     "end_time": "2025-03-06T21:52:33.493092Z",
     "start_time": "2025-03-06T21:52:26.706097Z"
    }
   },
   "cell_type": "code",
   "source": [
    "import polars as pl\n",
    "read_df = pl.read_parquet(\"data/recipes3.parquet\")\n",
    "read_df.head()"
   ],
   "id": "e9df5f0bf4d996c7",
   "outputs": [
    {
     "data": {
      "text/plain": [
       "shape: (5, 24)\n",
       "┌─────┬────────────┬────────────┬────────────┬───┬────────────┬────────────┬───────────┬───────────┐\n",
       "│     ┆ name       ┆ ingredient ┆ instructio ┆ … ┆ dietary_ta ┆ dietary_ta ┆ dietary_t ┆ dietary_t │\n",
       "│ --- ┆ ---        ┆ s          ┆ ns         ┆   ┆ gs_Vegetar ┆ gs_Non-Hal ┆ ags_Koshe ┆ ags_Vegan │\n",
       "│ i64 ┆ str        ┆ ---        ┆ ---        ┆   ┆ ian        ┆ al         ┆ r         ┆ ---       │\n",
       "│     ┆            ┆ str        ┆ str        ┆   ┆ ---        ┆ ---        ┆ ---       ┆ i8        │\n",
       "│     ┆            ┆            ┆            ┆   ┆ i8         ┆ i8         ┆ i8        ┆           │\n",
       "╞═════╪════════════╪════════════╪════════════╪═══╪════════════╪════════════╪═══════════╪═══════════╡\n",
       "│ 0   ┆ No-Bake    ┆ 1 c.       ┆ In a heavy ┆ … ┆ 1          ┆ 0          ┆ 1         ┆ 0         │\n",
       "│     ┆ Nut        ┆ firmly     ┆ 2-quart    ┆   ┆            ┆            ┆           ┆           │\n",
       "│     ┆ Cookies    ┆ packed     ┆ saucepan,  ┆   ┆            ┆            ┆           ┆           │\n",
       "│     ┆            ┆ brown      ┆ m…         ┆   ┆            ┆            ┆           ┆           │\n",
       "│     ┆            ┆ sugar…     ┆            ┆   ┆            ┆            ┆           ┆           │\n",
       "│ 1   ┆ Jewell     ┆ 1 small    ┆ Place      ┆ … ┆ 0          ┆ 0          ┆ 1         ┆ 0         │\n",
       "│     ┆ Ball'S     ┆ jar        ┆ chipped    ┆   ┆            ┆            ┆           ┆           │\n",
       "│     ┆ Chicken    ┆ chipped    ┆ beef on    ┆   ┆            ┆            ┆           ┆           │\n",
       "│     ┆            ┆ beef, cut  ┆ bottom o…  ┆   ┆            ┆            ┆           ┆           │\n",
       "│     ┆            ┆ …          ┆            ┆   ┆            ┆            ┆           ┆           │\n",
       "│ 2   ┆ Creamy     ┆ 2 (16 oz.) ┆ In a slow  ┆ … ┆ 1          ┆ 0          ┆ 1         ┆ 0         │\n",
       "│     ┆ Corn       ┆ pkg.       ┆ cooker,    ┆   ┆            ┆            ┆           ┆           │\n",
       "│     ┆            ┆ frozen     ┆ combine    ┆   ┆            ┆            ┆           ┆           │\n",
       "│     ┆            ┆ corn|1 …   ┆ all …      ┆   ┆            ┆            ┆           ┆           │\n",
       "│ 3   ┆ Chicken    ┆ 1 large    ┆ Boil and   ┆ … ┆ 0          ┆ 0          ┆ 1         ┆ 0         │\n",
       "│     ┆ Funny      ┆ whole      ┆ debone chi ┆   ┆            ┆            ┆           ┆           │\n",
       "│     ┆            ┆ chicken|2  ┆ cken.|Put  ┆   ┆            ┆            ┆           ┆           │\n",
       "│     ┆            ┆ (10 1/…    ┆ b…         ┆   ┆            ┆            ┆           ┆           │\n",
       "│ 4   ┆ Reeses Cup ┆ 1 c.       ┆ Combine    ┆ … ┆ 1          ┆ 0          ┆ 1         ┆ 0         │\n",
       "│     ┆ s(Candy)   ┆ peanut     ┆ first four ┆   ┆            ┆            ┆           ┆           │\n",
       "│     ┆            ┆ butter|3/4 ┆ ingredient ┆   ┆            ┆            ┆           ┆           │\n",
       "│     ┆            ┆ c. grah…   ┆ s…         ┆   ┆            ┆            ┆           ┆           │\n",
       "└─────┴────────────┴────────────┴────────────┴───┴────────────┴────────────┴───────────┴───────────┘"
      ],
      "text/html": [
       "<div><style>\n",
       ".dataframe > thead > tr,\n",
       ".dataframe > tbody > tr {\n",
       "  text-align: right;\n",
       "  white-space: pre-wrap;\n",
       "}\n",
       "</style>\n",
       "<small>shape: (5, 24)</small><table border=\"1\" class=\"dataframe\"><thead><tr><th></th><th>name</th><th>ingredients</th><th>instructions</th><th>link</th><th>source</th><th>NER</th><th>meal_course_snack</th><th>meal_course_pizza</th><th>meal_course_dessert</th><th>meal_course_side</th><th>meal_course_dinner</th><th>meal_course_breakfast</th><th>meal_course_appetizer</th><th>meal_course_lunch</th><th>meal_course_sandwich/burger</th><th>meal_course_main</th><th>meal_course_miscellaneous</th><th>dietary_tags_Non-Kosher</th><th>dietary_tags_Halal</th><th>dietary_tags_Vegetarian</th><th>dietary_tags_Non-Halal</th><th>dietary_tags_Kosher</th><th>dietary_tags_Vegan</th></tr><tr><td>i64</td><td>str</td><td>str</td><td>str</td><td>str</td><td>str</td><td>str</td><td>i8</td><td>i8</td><td>i8</td><td>i8</td><td>i8</td><td>i8</td><td>i8</td><td>i8</td><td>i8</td><td>i8</td><td>i8</td><td>i8</td><td>i8</td><td>i8</td><td>i8</td><td>i8</td><td>i8</td></tr></thead><tbody><tr><td>0</td><td>&quot;No-Bake Nut Cookies&quot;</td><td>&quot;1 c. firmly packed brown sugar…</td><td>&quot;In a heavy 2-quart saucepan, m…</td><td>&quot;www.cookbooks.com/Recipe-Detai…</td><td>&quot;Gathered&quot;</td><td>&quot;brown sugar|milk|vanilla|nuts|…</td><td>1</td><td>0</td><td>1</td><td>0</td><td>0</td><td>0</td><td>0</td><td>0</td><td>0</td><td>0</td><td>0</td><td>0</td><td>1</td><td>1</td><td>0</td><td>1</td><td>0</td></tr><tr><td>1</td><td>&quot;Jewell Ball&#x27;S Chicken&quot;</td><td>&quot;1 small jar chipped beef, cut …</td><td>&quot;Place chipped beef on bottom o…</td><td>&quot;www.cookbooks.com/Recipe-Detai…</td><td>&quot;Gathered&quot;</td><td>&quot;beef|chicken breasts|cream of …</td><td>0</td><td>0</td><td>0</td><td>0</td><td>1</td><td>0</td><td>0</td><td>1</td><td>0</td><td>0</td><td>0</td><td>0</td><td>1</td><td>0</td><td>0</td><td>1</td><td>0</td></tr><tr><td>2</td><td>&quot;Creamy Corn&quot;</td><td>&quot;2 (16 oz.) pkg. frozen corn|1 …</td><td>&quot;In a slow cooker, combine all …</td><td>&quot;www.cookbooks.com/Recipe-Detai…</td><td>&quot;Gathered&quot;</td><td>&quot;frozen corn|cream cheese|butte…</td><td>0</td><td>0</td><td>0</td><td>0</td><td>0</td><td>0</td><td>0</td><td>0</td><td>0</td><td>0</td><td>1</td><td>0</td><td>1</td><td>1</td><td>0</td><td>1</td><td>0</td></tr><tr><td>3</td><td>&quot;Chicken Funny&quot;</td><td>&quot;1 large whole chicken|2 (10 1/…</td><td>&quot;Boil and debone chicken.|Put b…</td><td>&quot;www.cookbooks.com/Recipe-Detai…</td><td>&quot;Gathered&quot;</td><td>&quot;chicken|chicken gravy|cream of…</td><td>0</td><td>0</td><td>0</td><td>0</td><td>1</td><td>0</td><td>0</td><td>1</td><td>0</td><td>0</td><td>0</td><td>0</td><td>1</td><td>0</td><td>0</td><td>1</td><td>0</td></tr><tr><td>4</td><td>&quot;Reeses Cups(Candy)&nbsp;&nbsp;&quot;</td><td>&quot;1 c. peanut butter|3/4 c. grah…</td><td>&quot;Combine first four ingredients…</td><td>&quot;www.cookbooks.com/Recipe-Detai…</td><td>&quot;Gathered&quot;</td><td>&quot;peanut butter|graham cracker c…</td><td>1</td><td>0</td><td>1</td><td>0</td><td>0</td><td>0</td><td>0</td><td>0</td><td>0</td><td>0</td><td>0</td><td>0</td><td>1</td><td>1</td><td>0</td><td>1</td><td>0</td></tr></tbody></table></div>"
      ]
     },
     "execution_count": 35,
     "metadata": {},
     "output_type": "execute_result"
    }
   ],
   "execution_count": 35
  },
  {
   "metadata": {
    "ExecuteTime": {
     "end_time": "2025-03-06T21:52:40.800501Z",
     "start_time": "2025-03-06T21:52:40.152070Z"
    }
   },
   "cell_type": "code",
   "source": "read_df.describe()",
   "id": "88480b703c073221",
   "outputs": [
    {
     "data": {
      "text/plain": [
       "shape: (9, 25)\n",
       "┌───────────┬───────────┬───────────┬───────────┬───┬───────────┬───────────┬───────────┬──────────┐\n",
       "│ statistic ┆           ┆ name      ┆ ingredien ┆ … ┆ dietary_t ┆ dietary_t ┆ dietary_t ┆ dietary_ │\n",
       "│ ---       ┆ ---       ┆ ---       ┆ ts        ┆   ┆ ags_Veget ┆ ags_Non-H ┆ ags_Koshe ┆ tags_Veg │\n",
       "│ str       ┆ f64       ┆ str       ┆ ---       ┆   ┆ arian     ┆ alal      ┆ r         ┆ an       │\n",
       "│           ┆           ┆           ┆ str       ┆   ┆ ---       ┆ ---       ┆ ---       ┆ ---      │\n",
       "│           ┆           ┆           ┆           ┆   ┆ f64       ┆ f64       ┆ f64       ┆ f64      │\n",
       "╞═══════════╪═══════════╪═══════════╪═══════════╪═══╪═══════════╪═══════════╪═══════════╪══════════╡\n",
       "│ count     ┆ 2.231142e ┆ 2231142   ┆ 2231142   ┆ … ┆ 2.231142e ┆ 2.231142e ┆ 2.231142e ┆ 2.231142 │\n",
       "│           ┆ 6         ┆           ┆           ┆   ┆ 6         ┆ 6         ┆ 6         ┆ e6       │\n",
       "│ null_coun ┆ 0.0       ┆ 0         ┆ 0         ┆ … ┆ 0.0       ┆ 0.0       ┆ 0.0       ┆ 0.0      │\n",
       "│ t         ┆           ┆           ┆           ┆   ┆           ┆           ┆           ┆          │\n",
       "│ mean      ┆ 1115570.5 ┆ null      ┆ null      ┆ … ┆ 0.882438  ┆ 0.04949   ┆ 0.991474  ┆ 0.467799 │\n",
       "│ std       ┆ 644075.36 ┆ null      ┆ null      ┆ … ┆ 0.322089  ┆ 0.216889  ┆ 0.091943  ┆ 0.498962 │\n",
       "│           ┆ 1488      ┆           ┆           ┆   ┆           ┆           ┆           ┆          │\n",
       "│ min       ┆ 0.0       ┆ \t Arugula ┆ \t 2 Kgs   ┆ … ┆ 0.0       ┆ 0.0       ┆ 0.0       ┆ 0.0      │\n",
       "│           ┆           ┆ Pomegrana ┆ Fresh     ┆   ┆           ┆           ┆           ┆          │\n",
       "│           ┆           ┆ te Salad  ┆ Mussels   ┆   ┆           ┆           ┆           ┆          │\n",
       "│           ┆           ┆           ┆ (cleaned… ┆   ┆           ┆           ┆           ┆          │\n",
       "│ 25%       ┆ 557785.0  ┆ null      ┆ null      ┆ … ┆ 1.0       ┆ 0.0       ┆ 1.0       ┆ 0.0      │\n",
       "│ 50%       ┆ 1.115571e ┆ null      ┆ null      ┆ … ┆ 1.0       ┆ 0.0       ┆ 1.0       ┆ 0.0      │\n",
       "│           ┆ 6         ┆           ┆           ┆   ┆           ┆           ┆           ┆          │\n",
       "│ 75%       ┆ 1.673356e ┆ null      ┆ null      ┆ … ┆ 1.0       ┆ 0.0       ┆ 1.0       ┆ 1.0      │\n",
       "│           ┆ 6         ┆           ┆           ┆   ┆           ┆           ┆           ┆          │\n",
       "│ max       ┆ 2.231141e ┆ ￼Risotto  ┆ ~|6 Cup   ┆ … ┆ 1.0       ┆ 1.0       ┆ 1.0       ┆ 1.0      │\n",
       "│           ┆ 6         ┆ Ai Funghi ┆ Blueberri ┆   ┆           ┆           ┆           ┆          │\n",
       "│           ┆           ┆           ┆ es|1/2    ┆   ┆           ┆           ┆           ┆          │\n",
       "│           ┆           ┆           ┆ Cup Su…   ┆   ┆           ┆           ┆           ┆          │\n",
       "└───────────┴───────────┴───────────┴───────────┴───┴───────────┴───────────┴───────────┴──────────┘"
      ],
      "text/html": [
       "<div><style>\n",
       ".dataframe > thead > tr,\n",
       ".dataframe > tbody > tr {\n",
       "  text-align: right;\n",
       "  white-space: pre-wrap;\n",
       "}\n",
       "</style>\n",
       "<small>shape: (9, 25)</small><table border=\"1\" class=\"dataframe\"><thead><tr><th>statistic</th><th></th><th>name</th><th>ingredients</th><th>instructions</th><th>link</th><th>source</th><th>NER</th><th>meal_course_snack</th><th>meal_course_pizza</th><th>meal_course_dessert</th><th>meal_course_side</th><th>meal_course_dinner</th><th>meal_course_breakfast</th><th>meal_course_appetizer</th><th>meal_course_lunch</th><th>meal_course_sandwich/burger</th><th>meal_course_main</th><th>meal_course_miscellaneous</th><th>dietary_tags_Non-Kosher</th><th>dietary_tags_Halal</th><th>dietary_tags_Vegetarian</th><th>dietary_tags_Non-Halal</th><th>dietary_tags_Kosher</th><th>dietary_tags_Vegan</th></tr><tr><td>str</td><td>f64</td><td>str</td><td>str</td><td>str</td><td>str</td><td>str</td><td>str</td><td>f64</td><td>f64</td><td>f64</td><td>f64</td><td>f64</td><td>f64</td><td>f64</td><td>f64</td><td>f64</td><td>f64</td><td>f64</td><td>f64</td><td>f64</td><td>f64</td><td>f64</td><td>f64</td><td>f64</td></tr></thead><tbody><tr><td>&quot;count&quot;</td><td>2.231142e6</td><td>&quot;2231142&quot;</td><td>&quot;2231142&quot;</td><td>&quot;2231142&quot;</td><td>&quot;2231142&quot;</td><td>&quot;2231142&quot;</td><td>&quot;2231142&quot;</td><td>2.231142e6</td><td>2.231142e6</td><td>2.231142e6</td><td>2.231142e6</td><td>2.231142e6</td><td>2.231142e6</td><td>2.231142e6</td><td>2.231142e6</td><td>2.231142e6</td><td>2.231142e6</td><td>2.231142e6</td><td>2.231142e6</td><td>2.231142e6</td><td>2.231142e6</td><td>2.231142e6</td><td>2.231142e6</td><td>2.231142e6</td></tr><tr><td>&quot;null_count&quot;</td><td>0.0</td><td>&quot;0&quot;</td><td>&quot;0&quot;</td><td>&quot;0&quot;</td><td>&quot;0&quot;</td><td>&quot;0&quot;</td><td>&quot;0&quot;</td><td>0.0</td><td>0.0</td><td>0.0</td><td>0.0</td><td>0.0</td><td>0.0</td><td>0.0</td><td>0.0</td><td>0.0</td><td>0.0</td><td>0.0</td><td>0.0</td><td>0.0</td><td>0.0</td><td>0.0</td><td>0.0</td><td>0.0</td></tr><tr><td>&quot;mean&quot;</td><td>1115570.5</td><td>null</td><td>null</td><td>null</td><td>null</td><td>null</td><td>null</td><td>0.213088</td><td>0.011824</td><td>0.213088</td><td>0.160138</td><td>0.212458</td><td>0.082391</td><td>0.140472</td><td>0.212458</td><td>0.023169</td><td>0.019666</td><td>0.36568</td><td>0.008526</td><td>0.95051</td><td>0.882438</td><td>0.04949</td><td>0.991474</td><td>0.467799</td></tr><tr><td>&quot;std&quot;</td><td>644075.361488</td><td>null</td><td>null</td><td>null</td><td>null</td><td>null</td><td>null</td><td>0.40949</td><td>0.108095</td><td>0.40949</td><td>0.366734</td><td>0.409047</td><td>0.274959</td><td>0.347476</td><td>0.409047</td><td>0.150441</td><td>0.13885</td><td>0.48162</td><td>0.091943</td><td>0.216889</td><td>0.322089</td><td>0.216889</td><td>0.091943</td><td>0.498962</td></tr><tr><td>&quot;min&quot;</td><td>0.0</td><td>&quot;\t Arugula Pomegranate Salad&quot;</td><td>&quot;\t 2 Kgs Fresh Mussels (cleaned…</td><td>&quot;\u0000|Cut unpeeled squash into 1/4…</td><td>&quot;allrecipes.com/recipe/1-pea-sa…</td><td>&quot;Gathered&quot;</td><td>&quot;&quot;</td><td>0.0</td><td>0.0</td><td>0.0</td><td>0.0</td><td>0.0</td><td>0.0</td><td>0.0</td><td>0.0</td><td>0.0</td><td>0.0</td><td>0.0</td><td>0.0</td><td>0.0</td><td>0.0</td><td>0.0</td><td>0.0</td><td>0.0</td></tr><tr><td>&quot;25%&quot;</td><td>557785.0</td><td>null</td><td>null</td><td>null</td><td>null</td><td>null</td><td>null</td><td>0.0</td><td>0.0</td><td>0.0</td><td>0.0</td><td>0.0</td><td>0.0</td><td>0.0</td><td>0.0</td><td>0.0</td><td>0.0</td><td>0.0</td><td>0.0</td><td>1.0</td><td>1.0</td><td>0.0</td><td>1.0</td><td>0.0</td></tr><tr><td>&quot;50%&quot;</td><td>1.115571e6</td><td>null</td><td>null</td><td>null</td><td>null</td><td>null</td><td>null</td><td>0.0</td><td>0.0</td><td>0.0</td><td>0.0</td><td>0.0</td><td>0.0</td><td>0.0</td><td>0.0</td><td>0.0</td><td>0.0</td><td>0.0</td><td>0.0</td><td>1.0</td><td>1.0</td><td>0.0</td><td>1.0</td><td>0.0</td></tr><tr><td>&quot;75%&quot;</td><td>1.673356e6</td><td>null</td><td>null</td><td>null</td><td>null</td><td>null</td><td>null</td><td>0.0</td><td>0.0</td><td>0.0</td><td>0.0</td><td>0.0</td><td>0.0</td><td>0.0</td><td>0.0</td><td>0.0</td><td>0.0</td><td>1.0</td><td>0.0</td><td>1.0</td><td>1.0</td><td>0.0</td><td>1.0</td><td>1.0</td></tr><tr><td>&quot;max&quot;</td><td>2.231141e6</td><td>&quot;￼Risotto Ai Funghi &quot;</td><td>&quot;~|6 Cup Blueberries|1/2 Cup Su…</td><td>&quot;°|Arrange 8 popsicle sticks on…</td><td>&quot;www.yummly.com/recipe/tortitas…</td><td>&quot;Recipes1M&quot;</td><td>&quot;||||||||&quot;</td><td>1.0</td><td>1.0</td><td>1.0</td><td>1.0</td><td>1.0</td><td>1.0</td><td>1.0</td><td>1.0</td><td>1.0</td><td>1.0</td><td>1.0</td><td>1.0</td><td>1.0</td><td>1.0</td><td>1.0</td><td>1.0</td><td>1.0</td></tr></tbody></table></div>"
      ]
     },
     "execution_count": 36,
     "metadata": {},
     "output_type": "execute_result"
    }
   ],
   "execution_count": 36
  },
  {
   "metadata": {
    "ExecuteTime": {
     "end_time": "2025-03-06T21:53:10.960783Z",
     "start_time": "2025-03-06T21:53:10.948217Z"
    }
   },
   "cell_type": "code",
   "source": "read_df.dtypes",
   "id": "4491d5164e167d3a",
   "outputs": [
    {
     "data": {
      "text/plain": [
       "[Int64,\n",
       " String,\n",
       " String,\n",
       " String,\n",
       " String,\n",
       " String,\n",
       " String,\n",
       " Int8,\n",
       " Int8,\n",
       " Int8,\n",
       " Int8,\n",
       " Int8,\n",
       " Int8,\n",
       " Int8,\n",
       " Int8,\n",
       " Int8,\n",
       " Int8,\n",
       " Int8,\n",
       " Int8,\n",
       " Int8,\n",
       " Int8,\n",
       " Int8,\n",
       " Int8,\n",
       " Int8]"
      ]
     },
     "execution_count": 37,
     "metadata": {},
     "output_type": "execute_result"
    }
   ],
   "execution_count": 37
  },
  {
   "metadata": {},
   "cell_type": "code",
   "outputs": [],
   "execution_count": null,
   "source": "",
   "id": "2740b308fba6ca24"
  }
 ],
 "metadata": {
  "kernelspec": {
   "display_name": "Python 3",
   "language": "python",
   "name": "python3"
  },
  "language_info": {
   "codemirror_mode": {
    "name": "ipython",
    "version": 2
   },
   "file_extension": ".py",
   "mimetype": "text/x-python",
   "name": "python",
   "nbconvert_exporter": "python",
   "pygments_lexer": "ipython2",
   "version": "2.7.6"
  }
 },
 "nbformat": 4,
 "nbformat_minor": 5
}
